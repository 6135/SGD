{
 "cells": [
  {
   "cell_type": "code",
   "execution_count": 4,
   "id": "b992f26a",
   "metadata": {},
   "outputs": [],
   "source": [
    "import unicodecsv\n",
    "import pandas as pd\n",
    "import numpy as np\n",
    "import matplotlib.pyplot as plt\n",
    "import seaborn as sns\n",
    "import datetime as dt\n",
    "from scipy import stats\n",
    "from scipy.stats import norm\n",
    "\n",
    "pd.options.display.float_format = '{:.0f}'.format\n",
    "DATASET_BASE_PATH = \"C:/Users/guibs/Documents/GitHub/SGD/PROJ2/DataSets\""
   ]
  },
  {
   "cell_type": "code",
   "execution_count": 5,
   "id": "78408b2f",
   "metadata": {},
   "outputs": [],
   "source": [
    "AQ2019=pd.read_csv(f\"{DATASET_BASE_PATH}/AQ2019.csv\")\n",
    "AQ2020=pd.read_csv(f\"{DATASET_BASE_PATH}/AQ2020.csv\")\n",
    "AQ2021=pd.read_csv(f\"{DATASET_BASE_PATH}/AQ2021.csv\")\n",
    "#CD=pd.read_excel(f\"{DATASET_BASE_PATH}/Covid.xlsx\")\n",
    "#VD=pd.read_csv(f\"{DATASET_BASE_PATH}/Vaccination.xlsx\")\n",
    "\n",
    "#Merge Air quality DataSets\n",
    "AQ = pd.concat([AQ2019,AQ2020,AQ2021])\n",
    "AQ.to_csv(\"C:/Users/guibs/Documents/GitHub/SGD/PROJ2/DataSets/AQ.csv\")"
   ]
  },
  {
   "cell_type": "code",
   "execution_count": 6,
   "id": "0f0008ce",
   "metadata": {},
   "outputs": [],
   "source": [
    "#CD.head()"
   ]
  },
  {
   "cell_type": "code",
   "execution_count": 7,
   "id": "fe9ec10d",
   "metadata": {},
   "outputs": [],
   "source": [
    "#VD.head()"
   ]
  },
  {
   "cell_type": "code",
   "execution_count": 8,
   "id": "da66d2b3",
   "metadata": {},
   "outputs": [
    {
     "name": "stdout",
     "output_type": "stream",
     "text": [
      "              Date Country      City Specie  count  min  max  median  variance\n",
      "0       2019-11-02      HU  Debrecen     o3     72    2   12       7        60\n",
      "1       2019-11-11      HU  Debrecen     o3     66    1   15       7       151\n",
      "2       2019-11-12      HU  Debrecen     o3     65    2   19      12       193\n",
      "3       2019-12-22      HU  Debrecen     o3     45   11   24      19       111\n",
      "4       2020-01-05      HU  Debrecen     o3     34    2   26      17       587\n",
      "...            ...     ...       ...    ...    ...  ...  ...     ...       ...\n",
      "407876  2022-01-02      IN   Kolkata   pm25     60  147  212     167      1660\n",
      "407877  2021-11-14      IN   Kolkata   pm25    264   57  162     105      7080\n",
      "407878  2021-11-24      IN   Kolkata   pm25    239   55  205     165      3726\n",
      "407879  2021-12-10      IN   Kolkata   pm25    239   52  282     145     13453\n",
      "407880  2021-12-22      IN   Kolkata   pm25    248  142  417     180     21135\n",
      "\n",
      "[1584207 rows x 9 columns]\n"
     ]
    }
   ],
   "source": [
    "print(AQ)"
   ]
  }
 ],
 "metadata": {
  "interpreter": {
   "hash": "c9f9d5a03bc6f813395fc3b980977d2b2e94227472af5666de15dbce134c117f"
  },
  "kernelspec": {
   "display_name": "Python 3.10.4 64-bit (windows store)",
   "language": "python",
   "name": "python3"
  },
  "language_info": {
   "codemirror_mode": {
    "name": "ipython",
    "version": 3
   },
   "file_extension": ".py",
   "mimetype": "text/x-python",
   "name": "python",
   "nbconvert_exporter": "python",
   "pygments_lexer": "ipython3",
   "version": "3.10.4"
  }
 },
 "nbformat": 4,
 "nbformat_minor": 5
}
