{
 "cells": [
  {
   "cell_type": "raw",
   "metadata": {},
   "source": [
    "https://naiveskill.com/mongodb-with-python/\n",
    "\n",
    ".whichCollection.find()\n",
    "• db.coll.find({ attr: { $operator: value} })\n",
    "• db.coll.find({ attr: { $operator: value} [, { attr: { $operator: value}] })\n",
    "• db.coll.update({attr:value},{$set:{attr:value}})\n",
    "• db.coll.updateMany( { attr: {$op: val} } , { $inc: { attr: val} }\n",
    "• db.coll.updateMany( { attr: {$op: val} } , { $inc: { attr: val} }\n",
    "• aggreg=db.coll.aggregate( [\n",
    "{ '$group': { '_id': attr, 'total': { ’$op': ”$attr\" } } }, { '$sort': { 'total': -1 } } ])\n",
    "\n",
    "SOME OPERATORS:\n",
    "Name Description\n",
    "$eq Matches values that are equal to a specified value.\n",
    "$gt Matches values that are greater than a specified value. $gte Matches values that are greater than or equal to a specified value.\n",
    "$in Matches any of the values specified in an array.\n",
    "$lt Matches values that are less than a specified value. $lte Matches values that are less than or equal to a specified value.\n",
    "$ne Matches all values that are not equal to a specified value.\n",
    "$nin Matches none of the values specified in an array.\n",
    "\n",
    "Logical\n",
    "Name Description\n",
    "$and Joins query clauses with a logical AND returns all documents that match the conditions of both clauses.\n",
    "$not Inverts the effect of a query expression and returns documents that do not match the query expression.\n",
    "$nor Joins query clauses with a logical NOR returns all documents that fail to match both clauses.\n",
    "$or Joins query clauses with a logical OR returns all documents that match the conditions of either clause.\n"
   ]
  },
  {
   "cell_type": "markdown",
   "metadata": {},
   "source": [
    "# Install if needed"
   ]
  },
  {
   "cell_type": "markdown",
   "metadata": {},
   "source": [
    "pip install pymongo"
   ]
  },
  {
   "cell_type": "code",
   "execution_count": null,
   "metadata": {},
   "outputs": [],
   "source": [
    "import pymongo"
   ]
  },
  {
   "cell_type": "markdown",
   "metadata": {},
   "source": [
    "# launch the daemon"
   ]
  },
  {
   "cell_type": "markdown",
   "metadata": {},
   "source": [
    "inside the bin dir of mongo\n",
    "mkdir aulaMONGODB\n",
    "Macs-MBP-4:bin pedro$ mongod --dbpath aulaMONGODB"
   ]
  },
  {
   "cell_type": "markdown",
   "metadata": {},
   "source": [
    "# Connect the client"
   ]
  },
  {
   "cell_type": "code",
   "execution_count": null,
   "metadata": {},
   "outputs": [],
   "source": [
    "client = pymongo.MongoClient(\"mongodb://localhost:27017/\")"
   ]
  },
  {
   "cell_type": "markdown",
   "metadata": {},
   "source": [
    "# Create and use a simple DB"
   ]
  },
  {
   "cell_type": "markdown",
   "metadata": {},
   "source": [
    "## create a DB with patients health data"
   ]
  },
  {
   "cell_type": "code",
   "execution_count": null,
   "metadata": {},
   "outputs": [],
   "source": [
    "db = client[\"med_data\"]"
   ]
  },
  {
   "cell_type": "markdown",
   "metadata": {},
   "source": [
    "## Add a patients data collection (like a table)"
   ]
  },
  {
   "cell_type": "code",
   "execution_count": null,
   "metadata": {},
   "outputs": [],
   "source": [
    "patient_data = db[\"patient_data\"]"
   ]
  },
  {
   "cell_type": "markdown",
   "metadata": {},
   "source": [
    "## Insert data"
   ]
  },
  {
   "cell_type": "raw",
   "metadata": {},
   "source": [
    "name, age, biological sex and heart rate. \n",
    "\n",
    "blood pressure (systolic and diastolic pressure), millimetres of mercury (mmHg), for example 156/82."
   ]
  },
  {
   "cell_type": "code",
   "execution_count": null,
   "metadata": {},
   "outputs": [],
   "source": [
    "patient_record = {\n",
    "   \"Name\": \"Maureen Skinner\",\n",
    "   \"Age\": 87,\n",
    "   \"Sex\": \"F\",\n",
    "   \"Blood pressure\": [{\"sys\": 156}, {\"dia\": 82}],\n",
    "   \"Heart rate\": 82\n",
    "}"
   ]
  },
  {
   "cell_type": "raw",
   "metadata": {},
   "source": [
    "This is called a document (equivalent to a row in RDBMS). You can add multiple documents using commas"
   ]
  },
  {
   "cell_type": "markdown",
   "metadata": {},
   "source": [
    "## Now insert and query it\n",
    "hints: \n",
    "use insert_one TO INSERT\n",
    "\n",
    "TO QUERY USE for item in ?.find():\n",
    "        print(item)"
   ]
  },
  {
   "cell_type": "code",
   "execution_count": null,
   "metadata": {},
   "outputs": [],
   "source": [
    "#ADD INSERT CODE HERE"
   ]
  },
  {
   "cell_type": "code",
   "execution_count": null,
   "metadata": {},
   "outputs": [],
   "source": [
    "#ADD QUERY CODE HERE"
   ]
  },
  {
   "cell_type": "markdown",
   "metadata": {},
   "source": [
    "## Pretty print it..."
   ]
  },
  {
   "cell_type": "code",
   "execution_count": null,
   "metadata": {},
   "outputs": [],
   "source": [
    "from pprint import pprint\n",
    "\n",
    "for item in patient_data.find():\n",
    "    pprint(item)"
   ]
  },
  {
   "cell_type": "raw",
   "metadata": {},
   "source": [
    "ObjectId to uniquely identify each document. This is a 12-byte hexadecimal string consisting of a timestamp, randomly generated value and incrementing counter. "
   ]
  },
  {
   "cell_type": "markdown",
   "metadata": {},
   "source": [
    "## Add multiple documents to the collection\n",
    "hint: use insert_many"
   ]
  },
  {
   "cell_type": "code",
   "execution_count": null,
   "metadata": {},
   "outputs": [],
   "source": [
    "patient_records = [\n",
    " {\n",
    "   \"Name\": \"Adam Blythe\",\n",
    "   \"Age\": 55,\n",
    "   \"Sex\": \"M\",\n",
    "   \"Blood pressure\": [{\"sys\": 132}, {\"dia\": 73}],\n",
    "   \"Heart rate\": 73\n",
    " },\n",
    " {\n",
    "   \"Name\": \"Darren Sanders\",\n",
    "   \"Age\": 34,\n",
    "   \"Sex\": \"M\",\n",
    "   \"Blood pressure\": [{\"sys\": 120}, {\"dia\": 70}],\n",
    "   \"Heart rate\": 67\n",
    " },\n",
    " {\n",
    "   \"Name\": \"Sally-Ann Joyce\",\n",
    "   \"Age\": 19,\n",
    "   \"Sex\": \"F\",\n",
    "   \"Blood pressure\": [{\"sys\": 121}, {\"dia\": 72}],\n",
    "   \"Heart rate\": 67\n",
    " }\n",
    "]\n"
   ]
  },
  {
   "cell_type": "code",
   "execution_count": null,
   "metadata": {},
   "outputs": [],
   "source": [
    "for item in patient_data.find():\n",
    "    pprint(item)"
   ]
  },
  {
   "cell_type": "markdown",
   "metadata": {},
   "source": [
    "## UPDATE: Darren Sanders heart rate was supposed to be 88\n",
    "hints: use update_one\n",
    "   to choose Darren: {\"Name\": \"Darren Sanders\"}\n",
    "   to change the heart rate: {\"$set\":{\"Heart rate\": 88}}"
   ]
  },
  {
   "cell_type": "code",
   "execution_count": null,
   "metadata": {},
   "outputs": [],
   "source": [
    "#ADD QUERY CODE HERE"
   ]
  },
  {
   "cell_type": "markdown",
   "metadata": {},
   "source": [
    "# Linking (similar to foreign keys in RDBMS)"
   ]
  },
  {
   "cell_type": "markdown",
   "metadata": {},
   "source": [
    "## we want to store some other medical test results for a patient. \n",
    "This could include some blood test results and an ECG/EKG image for \n",
    "some investigations for a heart attack and some blood tests, \n",
    "including:\n",
    "    \n",
    "Creatine Kinase (CK)\n",
    "Troponin I (TROP)\n",
    "Aspartate aminotransferase (AST)"
   ]
  },
  {
   "cell_type": "raw",
   "metadata": {},
   "source": [
    "patient_record = {\n",
    "  \"Hospital number\": \"3432543\",\n",
    "  \"Name\": \"Karen Baker\",\n",
    "  \"Age\": 45,\n",
    "  \"Sex\": \"F\",\n",
    "  \"Blood pressure\": [{\"sys\": 126}, {\"dia\": 72}],\n",
    "  \"Heart rate\": 78,\n",
    "  \"Test results\" : []\n",
    "}"
   ]
  },
  {
   "cell_type": "raw",
   "metadata": {},
   "source": [
    "The test results top add are:\n",
    "       \"ECG\": \"\\scans\\ECGs\\ecg00023.png\"\n",
    "       \"BIOCHEM\": [{\"AST\": 37}, {\"CK\": 180}, {\"TROPT\": 0.03}]     "
   ]
  },
  {
   "cell_type": "markdown",
   "metadata": {},
   "source": [
    "## Add the patient document with those values, THEN query to see those values\n",
    "hints: use insert_one\n",
    "        use find"
   ]
  },
  {
   "cell_type": "code",
   "execution_count": null,
   "metadata": {},
   "outputs": [],
   "source": [
    "patient_record = {\n",
    "  \"Hospital number\": \"3432543\",\n",
    "  \"Name\": \"Karen Baker\",\n",
    "  \"Age\": 45,\n",
    "  \"Sex\": \"F\",\n",
    "  \"Blood pressure\": [{\"sys\": 126}, {\"dia\": 72}],\n",
    "  \"Heart rate\": 78,\n",
    "  \"Test results\" : [\n",
    "   {\n",
    "     \"ECG\": \"\\scans\\ECGs\\ecg00023.png\"\n",
    "   },\n",
    "   {\n",
    "     \"BIOCHEM\": [{\"AST\": 37}, {\"CK\": 180}, {\"TROPT\": 0.03}]\n",
    "   }\n",
    "  ]\n",
    "}"
   ]
  },
  {
   "cell_type": "code",
   "execution_count": null,
   "metadata": {},
   "outputs": [],
   "source": [
    "#ADD insert QUERY CODE HERE"
   ]
  },
  {
   "cell_type": "code",
   "execution_count": null,
   "metadata": {},
   "outputs": [],
   "source": [
    "#ADD find QUERY CODE HERE"
   ]
  },
  {
   "cell_type": "markdown",
   "metadata": {},
   "source": [
    "## Now we want to link to another collection representing medication data - first insert the data\n",
    "hint: use insert_many"
   ]
  },
  {
   "cell_type": "code",
   "execution_count": null,
   "metadata": {},
   "outputs": [],
   "source": [
    "medication_data = db[\"medication_data\"]"
   ]
  },
  {
   "cell_type": "code",
   "execution_count": null,
   "metadata": {},
   "outputs": [],
   "source": [
    "medication_record = [\n",
    " {\n",
    "   \"Drug name\": \"Omeprazole\",\n",
    "   \"Type\": \"Proton pump inhibitor\",\n",
    "   \"Oral dose\": \"20mg once daily\",\n",
    "   \"IV dose\": \"40mg\",\n",
    "   \"Net price (GBP)\": 4.29\n",
    " },\n",
    " {\n",
    "   \"Drug name\": \"Amitriptyline\",\n",
    "   \"Type\": \"Tricyclic antidepressant\",\n",
    "   \"Oral dose\": \"30–75mg daily\",\n",
    "   \"IV dose\": \"N/A\",\n",
    "   \"Net price (GBP)\": 1.32\n",
    " }\n",
    "]\n"
   ]
  },
  {
   "cell_type": "code",
   "execution_count": null,
   "metadata": {},
   "outputs": [],
   "source": [
    "#ADD QUERY CODE HERE"
   ]
  },
  {
   "cell_type": "code",
   "execution_count": null,
   "metadata": {},
   "outputs": [],
   "source": [
    "for item in medication_data.find():\n",
    "    pprint(item)"
   ]
  },
  {
   "cell_type": "markdown",
   "metadata": {},
   "source": [
    "## Now link that medication to patients\n",
    "hint:complete the parts with a question mark..."
   ]
  },
  {
   "cell_type": "code",
   "execution_count": null,
   "metadata": {},
   "outputs": [],
   "source": [
    "from bson.dbref import DBRef\n",
    "patient_records = [\n",
    " {\n",
    "   \"Hospital number\": \"9956734\",\n",
    "   \"Name\": \"Adam Blythe\",\n",
    "   \"Age\": 55,\n",
    "   \"Sex\": \"M\",\n",
    "   \"Prescribed medications\": [\n",
    "     DBRef(\"medication_data\", \"?\"),\n",
    "     DBRef(\"medication_data\", \"?\")\n",
    "   ]\n",
    " },\n",
    " {\n",
    "   \"Hospital number\": \"4543673\",\n",
    "   \"Name\": \"Darren Sanders\",\n",
    "   \"Age\": 34,\n",
    "   \"Sex\": \"M\",\n",
    "   \"Prescribed medications\": [\n",
    "     DBRef(\"diagnosis_data\", \"?\")\n",
    "   ]\n",
    " }\n",
    "]"
   ]
  },
  {
   "cell_type": "code",
   "execution_count": null,
   "metadata": {},
   "outputs": [],
   "source": [
    "patient_data.insert_many(patient_records)"
   ]
  },
  {
   "cell_type": "code",
   "execution_count": null,
   "metadata": {},
   "outputs": [],
   "source": [
    "for item in patient_data.find():\n",
    "    pprint(item)"
   ]
  },
  {
   "cell_type": "markdown",
   "metadata": {},
   "source": [
    "# Querying data with conditions"
   ]
  },
  {
   "cell_type": "raw",
   "metadata": {},
   "source": [
    "collection.find({ <query> }, { <field(s)> })"
   ]
  },
  {
   "cell_type": "markdown",
   "metadata": {},
   "source": [
    "## Find patient with the name “Darren Sanders”\n",
    "hint: use find with the condition {\"Name\": \"Darren Sanders\"}"
   ]
  },
  {
   "cell_type": "code",
   "execution_count": null,
   "metadata": {},
   "outputs": [],
   "source": [
    "# pprint(ADD QUERY CODE HERE)[0])"
   ]
  },
  {
   "cell_type": "markdown",
   "metadata": {},
   "source": [
    "## But there are two Darrens, show both: "
   ]
  },
  {
   "cell_type": "code",
   "execution_count": null,
   "metadata": {},
   "outputs": [],
   "source": [
    "query = {\"Name\": \"Darren Sanders\"}\n",
    "doc = patient_data.find(query)\n",
    "for i in doc:\n",
    "  pprint(i)"
   ]
  },
  {
   "cell_type": "markdown",
   "metadata": {},
   "source": [
    "## Show the names of patients with heart rates higher than 70 \n",
    "hint: condition: {\"Heart rate\": {\"$gt\": 70}}, {\"Name\"}"
   ]
  },
  {
   "cell_type": "code",
   "execution_count": null,
   "metadata": {},
   "outputs": [],
   "source": [
    "## for heart_rate in patient_data.find(##add your code here):\n",
    "##    pprint(heart_rate)"
   ]
  },
  {
   "cell_type": "markdown",
   "metadata": {},
   "source": [
    "## find patients with heart rate <= 70 and aged more than 18\n",
    "\n",
    "hint: complete the text to work..."
   ]
  },
  {
   "cell_type": "code",
   "execution_count": null,
   "metadata": {},
   "outputs": [],
   "source": [
    "result = patient_data.find({\n",
    " \"$and\" : [\n",
    "     {\n",
    "         \"Heart rate\": {\"$lte\": ?}\n",
    "     },\n",
    "     {\n",
    "         \"Age\": {\"$?\": ?}\n",
    "     }\n",
    "   ]\n",
    "})\n",
    "for pt in result:\n",
    "    pprint(pt)"
   ]
  },
  {
   "cell_type": "markdown",
   "metadata": {},
   "source": [
    "## find the patients with a systolic (sys) blood pressure less than 140 mmHG (mm of mercury)\n",
    "hints: \n",
    "{\"Blood pressure.sys\": {\"$?\": ?}}\n",
    "\n",
    "use . to access the array elements"
   ]
  },
  {
   "cell_type": "code",
   "execution_count": null,
   "metadata": {},
   "outputs": [],
   "source": [
    "for normal in patient_data.find(?):\n",
    "    pprint(normal)"
   ]
  },
  {
   "cell_type": "markdown",
   "metadata": {},
   "source": [
    "# import restaurants and neighbourhoods JSON"
   ]
  },
  {
   "cell_type": "raw",
   "metadata": {},
   "source": [
    "wget https://raw.githubusercontent.com/mongodb/docs-assets/primer-dataset/primer-dataset.json"
   ]
  },
  {
   "cell_type": "code",
   "execution_count": null,
   "metadata": {},
   "outputs": [],
   "source": [
    "!/Users/pedro/servers/MongoDB/mongodb-osx-x86_64-3.6.2/bin/mongoimport -d restaurants -c restaurants --file restaurants.json"
   ]
  },
  {
   "cell_type": "raw",
   "metadata": {},
   "source": [
    "NOTA: DE MODO GERAL, A IMPORTACAO TB deve FUNCIONAR COM:\n",
    "import json\n",
    "with open('data_file.json') as f:\n",
    "  file_data = json.load(f)\n",
    " \n",
    "my_collection.insert_many(file_data)"
   ]
  },
  {
   "cell_type": "markdown",
   "metadata": {},
   "source": [
    "## See databases"
   ]
  },
  {
   "cell_type": "code",
   "execution_count": null,
   "metadata": {},
   "outputs": [],
   "source": [
    "client.list_database_names()"
   ]
  },
  {
   "cell_type": "markdown",
   "metadata": {},
   "source": [
    "## Connect to restaurants, reference restaurants"
   ]
  },
  {
   "cell_type": "code",
   "execution_count": null,
   "metadata": {},
   "outputs": [],
   "source": [
    "db = client['restaurants']"
   ]
  },
  {
   "cell_type": "code",
   "execution_count": null,
   "metadata": {},
   "outputs": [],
   "source": [
    "client['restaurants'].list_collection_names()"
   ]
  },
  {
   "cell_type": "code",
   "execution_count": null,
   "metadata": {},
   "outputs": [],
   "source": [
    "restaurants=client['restaurants']['restaurants']"
   ]
  },
  {
   "cell_type": "code",
   "execution_count": null,
   "metadata": {},
   "outputs": [],
   "source": [
    "for item in restaurants.find().limit(5):\n",
    "    print(item)"
   ]
  },
  {
   "cell_type": "markdown",
   "metadata": {},
   "source": [
    "## Compute the average scores of the restaurants. "
   ]
  },
  {
   "cell_type": "raw",
   "metadata": {},
   "source": [
    "We pass an array to the aggregate function. \n",
    "\n",
    "The $unwind parameter is used to deconstruct the grades array in order to output a document for each element. \n",
    "\n",
    "Next we use the $match parameter including everything (by using open and closing braces). We could filter further here by providing additional criteria. \n",
    "\n",
    "Next we use the $group parameter to group the data that we want to apply the computation to. \n",
    "\n",
    "Finally we create new key called “Avg grade” and apply the $avg (average) parameter to the grades scores of individual restaurants referencing grades followed by a dot and the score key.\n",
    "\n",
    "There are many other parameters that can be used for common computations such as $sum, $min, $max etc."
   ]
  },
  {
   "cell_type": "code",
   "execution_count": null,
   "metadata": {},
   "outputs": [],
   "source": [
    "result = restaurants.aggregate(\n",
    "  [\n",
    "     {\"$unwind\": \"$grades\"},\n",
    "     {\"$match\": {}}, \n",
    "     {\"$group\": {\"_id\": \"$name\", \"Avg grade\": {\"$avg\": \"$grades.score\"}}}\n",
    "  ]\n",
    ")"
   ]
  },
  {
   "cell_type": "code",
   "execution_count": null,
   "metadata": {},
   "outputs": [],
   "source": [
    "for item in result:\n",
    "    print(item)"
   ]
  },
  {
   "cell_type": "raw",
   "metadata": {},
   "source": [
    "sort the returned in ascending or descending order. We could simply add another line with the sort parameter specifying which field to sort by. 1 (ascending) or -1 (descending).\n",
    "\n",
    "hint: add {\"$sort\": {\"Avg grade\": -1}}"
   ]
  },
  {
   "cell_type": "code",
   "execution_count": null,
   "metadata": {},
   "outputs": [],
   "source": [
    "## your code here\n"
   ]
  },
  {
   "cell_type": "code",
   "execution_count": null,
   "metadata": {},
   "outputs": [],
   "source": [
    "for item in result:\n",
    "    print(item)"
   ]
  },
  {
   "cell_type": "markdown",
   "metadata": {},
   "source": [
    "# Now create a patient class in python that is a document"
   ]
  },
  {
   "cell_type": "code",
   "execution_count": null,
   "metadata": {},
   "outputs": [],
   "source": [
    "pip install mongoengine"
   ]
  },
  {
   "cell_type": "code",
   "execution_count": null,
   "metadata": {},
   "outputs": [],
   "source": [
    "from mongoengine import *\n",
    "connect('odm_patients')"
   ]
  },
  {
   "cell_type": "code",
   "execution_count": null,
   "metadata": {},
   "outputs": [],
   "source": [
    "class Patient(Document):\n",
    "    patient_id = StringField(required=True)\n",
    "    name = StringField()\n",
    "    age = IntField()\n",
    "    sex = StringField(max_length=1)\n",
    "    heart_rate = IntField()"
   ]
  },
  {
   "cell_type": "markdown",
   "metadata": {},
   "source": [
    "## Add patients "
   ]
  },
  {
   "cell_type": "raw",
   "metadata": {},
   "source": [
    "# create instances of this class in the standard way in Python. Here we can create a couple of patients called Maxine and Hamza. Note that we add the save() function to the end of the line to write this data to the database."
   ]
  },
  {
   "cell_type": "code",
   "execution_count": null,
   "metadata": {},
   "outputs": [],
   "source": [
    "maxine_patient = Patient(patient_id = \"342453\", name = \"Maxine Smith\", age = 47, sex = \"F\", heart_rate = 67).save()\n",
    "\n",
    "hamza_patient = Patient(patient_id = \"543243\", name = \"Hamza Khan\", age = 22, sex = \"M\", heart_rate = 73).save()"
   ]
  },
  {
   "cell_type": "markdown",
   "metadata": {},
   "source": [
    "## View using python "
   ]
  },
  {
   "cell_type": "code",
   "execution_count": null,
   "metadata": {},
   "outputs": [],
   "source": [
    "for patient in Patient.objects:\n",
    "    print(patient.name, patient.patient_id, patient.age)"
   ]
  },
  {
   "cell_type": "markdown",
   "metadata": {},
   "source": [
    "## Now discover (find query) the patients in mongodb server directly "
   ]
  },
  {
   "cell_type": "code",
   "execution_count": null,
   "metadata": {},
   "outputs": [],
   "source": [
    "client.list_database_names()"
   ]
  },
  {
   "cell_type": "code",
   "execution_count": null,
   "metadata": {},
   "outputs": [],
   "source": [
    "## your code here"
   ]
  },
  {
   "cell_type": "code",
   "execution_count": null,
   "metadata": {},
   "outputs": [],
   "source": [
    "for item in client['odm_patients'].patient.find():\n",
    "    print(item)"
   ]
  },
  {
   "cell_type": "markdown",
   "metadata": {},
   "source": [
    "# Convert data from a Mongo database into tabular form as a Panda’s dataframe object"
   ]
  },
  {
   "cell_type": "code",
   "execution_count": null,
   "metadata": {},
   "outputs": [],
   "source": [
    "import pandas as pd\n",
    "\n",
    "extracted_data = restaurants.find({},{\"borough\": \"Bronx\", \"cuisine\": \"Bakery\", \"name\": 1})\n",
    "bronx_bakeries = list(extracted_data)\n",
    "\n",
    "bakeries=pd.DataFrame.from_dict(bronx_bakeries);"
   ]
  },
  {
   "cell_type": "code",
   "execution_count": null,
   "metadata": {},
   "outputs": [],
   "source": [
    "bakeries"
   ]
  },
  {
   "cell_type": "markdown",
   "metadata": {},
   "source": [
    "# The end !!!!"
   ]
  },
  {
   "cell_type": "code",
   "execution_count": null,
   "metadata": {},
   "outputs": [],
   "source": []
  }
 ],
 "metadata": {
  "kernelspec": {
   "display_name": "Python 3",
   "language": "python",
   "name": "python3"
  },
  "language_info": {
   "codemirror_mode": {
    "name": "ipython",
    "version": 3
   },
   "file_extension": ".py",
   "mimetype": "text/x-python",
   "name": "python",
   "nbconvert_exporter": "python",
   "pygments_lexer": "ipython3",
   "version": "3.8.5"
  },
  "toc": {
   "base_numbering": 1,
   "nav_menu": {},
   "number_sections": true,
   "sideBar": true,
   "skip_h1_title": false,
   "title_cell": "Table of Contents",
   "title_sidebar": "Contents",
   "toc_cell": false,
   "toc_position": {},
   "toc_section_display": true,
   "toc_window_display": false
  },
  "varInspector": {
   "cols": {
    "lenName": 16,
    "lenType": 16,
    "lenVar": 40
   },
   "kernels_config": {
    "python": {
     "delete_cmd_postfix": "",
     "delete_cmd_prefix": "del ",
     "library": "var_list.py",
     "varRefreshCmd": "print(var_dic_list())"
    },
    "r": {
     "delete_cmd_postfix": ") ",
     "delete_cmd_prefix": "rm(",
     "library": "var_list.r",
     "varRefreshCmd": "cat(var_dic_list()) "
    }
   },
   "types_to_exclude": [
    "module",
    "function",
    "builtin_function_or_method",
    "instance",
    "_Feature"
   ],
   "window_display": false
  }
 },
 "nbformat": 4,
 "nbformat_minor": 4
}
