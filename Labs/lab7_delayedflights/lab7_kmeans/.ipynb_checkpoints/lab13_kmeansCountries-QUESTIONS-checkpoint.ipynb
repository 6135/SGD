{
 "cells": [
  {
   "cell_type": "code",
   "execution_count": 1,
   "metadata": {},
   "outputs": [],
   "source": [
    "import numpy as np\n",
    "import pandas as pd\n",
    "import matplotlib.pyplot as plt"
   ]
  },
  {
   "cell_type": "code",
   "execution_count": 2,
   "metadata": {},
   "outputs": [],
   "source": [
    "df = pd.read_csv('UN.csv')"
   ]
  },
  {
   "cell_type": "code",
   "execution_count": 3,
   "metadata": {},
   "outputs": [
    {
     "data": {
      "text/plain": [
       "['country',\n",
       " 'region',\n",
       " 'tfr',\n",
       " 'contraception',\n",
       " 'educationMale',\n",
       " 'educationFemale',\n",
       " 'lifeMale',\n",
       " 'lifeFemale',\n",
       " 'infantMortality',\n",
       " 'GDPperCapita',\n",
       " 'economicActivityMale',\n",
       " 'economicActivityFemale',\n",
       " 'illiteracyMale',\n",
       " 'illiteracyFemale']"
      ]
     },
     "execution_count": 3,
     "metadata": {},
     "output_type": "execute_result"
    }
   ],
   "source": [
    "list(df)"
   ]
  },
  {
   "cell_type": "code",
   "execution_count": 4,
   "metadata": {},
   "outputs": [
    {
     "data": {
      "text/plain": [
       "[('country', str),\n",
       " ('region', str),\n",
       " ('tfr', numpy.float64),\n",
       " ('contraception', numpy.float64),\n",
       " ('educationMale', numpy.float64),\n",
       " ('educationFemale', numpy.float64),\n",
       " ('lifeMale', numpy.float64),\n",
       " ('lifeFemale', numpy.float64),\n",
       " ('infantMortality', numpy.float64),\n",
       " ('GDPperCapita', numpy.float64),\n",
       " ('economicActivityMale', numpy.float64),\n",
       " ('economicActivityFemale', numpy.float64),\n",
       " ('illiteracyMale', numpy.float64),\n",
       " ('illiteracyFemale', numpy.float64)]"
      ]
     },
     "execution_count": 4,
     "metadata": {},
     "output_type": "execute_result"
    }
   ],
   "source": [
    "[(col, type(df[col][0])) for col in df.columns] \n"
   ]
  },
  {
   "cell_type": "code",
   "execution_count": 5,
   "metadata": {},
   "outputs": [
    {
     "data": {
      "text/html": [
       "<div>\n",
       "<style scoped>\n",
       "    .dataframe tbody tr th:only-of-type {\n",
       "        vertical-align: middle;\n",
       "    }\n",
       "\n",
       "    .dataframe tbody tr th {\n",
       "        vertical-align: top;\n",
       "    }\n",
       "\n",
       "    .dataframe thead th {\n",
       "        text-align: right;\n",
       "    }\n",
       "</style>\n",
       "<table border=\"1\" class=\"dataframe\">\n",
       "  <thead>\n",
       "    <tr style=\"text-align: right;\">\n",
       "      <th></th>\n",
       "      <th>country</th>\n",
       "      <th>region</th>\n",
       "      <th>tfr</th>\n",
       "      <th>contraception</th>\n",
       "      <th>educationMale</th>\n",
       "      <th>educationFemale</th>\n",
       "      <th>lifeMale</th>\n",
       "      <th>lifeFemale</th>\n",
       "      <th>infantMortality</th>\n",
       "      <th>GDPperCapita</th>\n",
       "      <th>economicActivityMale</th>\n",
       "      <th>economicActivityFemale</th>\n",
       "      <th>illiteracyMale</th>\n",
       "      <th>illiteracyFemale</th>\n",
       "    </tr>\n",
       "  </thead>\n",
       "  <tbody>\n",
       "    <tr>\n",
       "      <th>0</th>\n",
       "      <td>Afghanistan</td>\n",
       "      <td>Asia</td>\n",
       "      <td>6.90</td>\n",
       "      <td>NaN</td>\n",
       "      <td>NaN</td>\n",
       "      <td>NaN</td>\n",
       "      <td>45.0</td>\n",
       "      <td>46.0</td>\n",
       "      <td>154.0</td>\n",
       "      <td>2848.0</td>\n",
       "      <td>87.5</td>\n",
       "      <td>7.2</td>\n",
       "      <td>52.800</td>\n",
       "      <td>85.000</td>\n",
       "    </tr>\n",
       "    <tr>\n",
       "      <th>1</th>\n",
       "      <td>Albania</td>\n",
       "      <td>Europe</td>\n",
       "      <td>2.60</td>\n",
       "      <td>NaN</td>\n",
       "      <td>NaN</td>\n",
       "      <td>NaN</td>\n",
       "      <td>68.0</td>\n",
       "      <td>74.0</td>\n",
       "      <td>32.0</td>\n",
       "      <td>863.0</td>\n",
       "      <td>NaN</td>\n",
       "      <td>NaN</td>\n",
       "      <td>NaN</td>\n",
       "      <td>NaN</td>\n",
       "    </tr>\n",
       "    <tr>\n",
       "      <th>2</th>\n",
       "      <td>Algeria</td>\n",
       "      <td>Africa</td>\n",
       "      <td>3.81</td>\n",
       "      <td>52.0</td>\n",
       "      <td>11.1</td>\n",
       "      <td>9.9</td>\n",
       "      <td>67.5</td>\n",
       "      <td>70.3</td>\n",
       "      <td>44.0</td>\n",
       "      <td>1531.0</td>\n",
       "      <td>76.4</td>\n",
       "      <td>7.8</td>\n",
       "      <td>26.100</td>\n",
       "      <td>51.000</td>\n",
       "    </tr>\n",
       "    <tr>\n",
       "      <th>3</th>\n",
       "      <td>American.Samoa</td>\n",
       "      <td>Asia</td>\n",
       "      <td>NaN</td>\n",
       "      <td>NaN</td>\n",
       "      <td>NaN</td>\n",
       "      <td>NaN</td>\n",
       "      <td>68.0</td>\n",
       "      <td>73.0</td>\n",
       "      <td>11.0</td>\n",
       "      <td>NaN</td>\n",
       "      <td>58.8</td>\n",
       "      <td>42.4</td>\n",
       "      <td>0.264</td>\n",
       "      <td>0.360</td>\n",
       "    </tr>\n",
       "    <tr>\n",
       "      <th>4</th>\n",
       "      <td>Andorra</td>\n",
       "      <td>Europe</td>\n",
       "      <td>NaN</td>\n",
       "      <td>NaN</td>\n",
       "      <td>NaN</td>\n",
       "      <td>NaN</td>\n",
       "      <td>NaN</td>\n",
       "      <td>NaN</td>\n",
       "      <td>NaN</td>\n",
       "      <td>NaN</td>\n",
       "      <td>NaN</td>\n",
       "      <td>NaN</td>\n",
       "      <td>NaN</td>\n",
       "      <td>NaN</td>\n",
       "    </tr>\n",
       "    <tr>\n",
       "      <th>...</th>\n",
       "      <td>...</td>\n",
       "      <td>...</td>\n",
       "      <td>...</td>\n",
       "      <td>...</td>\n",
       "      <td>...</td>\n",
       "      <td>...</td>\n",
       "      <td>...</td>\n",
       "      <td>...</td>\n",
       "      <td>...</td>\n",
       "      <td>...</td>\n",
       "      <td>...</td>\n",
       "      <td>...</td>\n",
       "      <td>...</td>\n",
       "      <td>...</td>\n",
       "    </tr>\n",
       "    <tr>\n",
       "      <th>202</th>\n",
       "      <td>Western.Sahara</td>\n",
       "      <td>Africa</td>\n",
       "      <td>3.98</td>\n",
       "      <td>NaN</td>\n",
       "      <td>NaN</td>\n",
       "      <td>NaN</td>\n",
       "      <td>59.8</td>\n",
       "      <td>63.1</td>\n",
       "      <td>64.0</td>\n",
       "      <td>NaN</td>\n",
       "      <td>NaN</td>\n",
       "      <td>NaN</td>\n",
       "      <td>NaN</td>\n",
       "      <td>NaN</td>\n",
       "    </tr>\n",
       "    <tr>\n",
       "      <th>203</th>\n",
       "      <td>Yemen</td>\n",
       "      <td>Asia</td>\n",
       "      <td>7.60</td>\n",
       "      <td>7.0</td>\n",
       "      <td>NaN</td>\n",
       "      <td>NaN</td>\n",
       "      <td>57.4</td>\n",
       "      <td>58.4</td>\n",
       "      <td>80.0</td>\n",
       "      <td>732.0</td>\n",
       "      <td>80.6</td>\n",
       "      <td>1.9</td>\n",
       "      <td>32.406</td>\n",
       "      <td>69.552</td>\n",
       "    </tr>\n",
       "    <tr>\n",
       "      <th>204</th>\n",
       "      <td>Yugoslavia</td>\n",
       "      <td>Europe</td>\n",
       "      <td>1.80</td>\n",
       "      <td>NaN</td>\n",
       "      <td>NaN</td>\n",
       "      <td>NaN</td>\n",
       "      <td>69.8</td>\n",
       "      <td>75.3</td>\n",
       "      <td>19.0</td>\n",
       "      <td>1487.0</td>\n",
       "      <td>NaN</td>\n",
       "      <td>NaN</td>\n",
       "      <td>1.782</td>\n",
       "      <td>9.072</td>\n",
       "    </tr>\n",
       "    <tr>\n",
       "      <th>205</th>\n",
       "      <td>Zambia</td>\n",
       "      <td>Africa</td>\n",
       "      <td>5.49</td>\n",
       "      <td>25.0</td>\n",
       "      <td>7.9</td>\n",
       "      <td>6.8</td>\n",
       "      <td>42.2</td>\n",
       "      <td>43.7</td>\n",
       "      <td>103.0</td>\n",
       "      <td>382.0</td>\n",
       "      <td>NaN</td>\n",
       "      <td>NaN</td>\n",
       "      <td>14.400</td>\n",
       "      <td>28.700</td>\n",
       "    </tr>\n",
       "    <tr>\n",
       "      <th>206</th>\n",
       "      <td>Zimbabwe</td>\n",
       "      <td>Africa</td>\n",
       "      <td>4.68</td>\n",
       "      <td>48.0</td>\n",
       "      <td>NaN</td>\n",
       "      <td>NaN</td>\n",
       "      <td>47.6</td>\n",
       "      <td>49.4</td>\n",
       "      <td>68.0</td>\n",
       "      <td>786.0</td>\n",
       "      <td>77.7</td>\n",
       "      <td>46.7</td>\n",
       "      <td>9.600</td>\n",
       "      <td>20.100</td>\n",
       "    </tr>\n",
       "  </tbody>\n",
       "</table>\n",
       "<p>207 rows × 14 columns</p>\n",
       "</div>"
      ],
      "text/plain": [
       "            country  region   tfr  contraception  educationMale  \\\n",
       "0       Afghanistan    Asia  6.90            NaN            NaN   \n",
       "1           Albania  Europe  2.60            NaN            NaN   \n",
       "2           Algeria  Africa  3.81           52.0           11.1   \n",
       "3    American.Samoa    Asia   NaN            NaN            NaN   \n",
       "4           Andorra  Europe   NaN            NaN            NaN   \n",
       "..              ...     ...   ...            ...            ...   \n",
       "202  Western.Sahara  Africa  3.98            NaN            NaN   \n",
       "203           Yemen    Asia  7.60            7.0            NaN   \n",
       "204      Yugoslavia  Europe  1.80            NaN            NaN   \n",
       "205          Zambia  Africa  5.49           25.0            7.9   \n",
       "206        Zimbabwe  Africa  4.68           48.0            NaN   \n",
       "\n",
       "     educationFemale  lifeMale  lifeFemale  infantMortality  GDPperCapita  \\\n",
       "0                NaN      45.0        46.0            154.0        2848.0   \n",
       "1                NaN      68.0        74.0             32.0         863.0   \n",
       "2                9.9      67.5        70.3             44.0        1531.0   \n",
       "3                NaN      68.0        73.0             11.0           NaN   \n",
       "4                NaN       NaN         NaN              NaN           NaN   \n",
       "..               ...       ...         ...              ...           ...   \n",
       "202              NaN      59.8        63.1             64.0           NaN   \n",
       "203              NaN      57.4        58.4             80.0         732.0   \n",
       "204              NaN      69.8        75.3             19.0        1487.0   \n",
       "205              6.8      42.2        43.7            103.0         382.0   \n",
       "206              NaN      47.6        49.4             68.0         786.0   \n",
       "\n",
       "     economicActivityMale  economicActivityFemale  illiteracyMale  \\\n",
       "0                    87.5                     7.2          52.800   \n",
       "1                     NaN                     NaN             NaN   \n",
       "2                    76.4                     7.8          26.100   \n",
       "3                    58.8                    42.4           0.264   \n",
       "4                     NaN                     NaN             NaN   \n",
       "..                    ...                     ...             ...   \n",
       "202                   NaN                     NaN             NaN   \n",
       "203                  80.6                     1.9          32.406   \n",
       "204                   NaN                     NaN           1.782   \n",
       "205                   NaN                     NaN          14.400   \n",
       "206                  77.7                    46.7           9.600   \n",
       "\n",
       "     illiteracyFemale  \n",
       "0              85.000  \n",
       "1                 NaN  \n",
       "2              51.000  \n",
       "3               0.360  \n",
       "4                 NaN  \n",
       "..                ...  \n",
       "202               NaN  \n",
       "203            69.552  \n",
       "204             9.072  \n",
       "205            28.700  \n",
       "206            20.100  \n",
       "\n",
       "[207 rows x 14 columns]"
      ]
     },
     "execution_count": 5,
     "metadata": {},
     "output_type": "execute_result"
    }
   ],
   "source": [
    "df"
   ]
  },
  {
   "cell_type": "code",
   "execution_count": 6,
   "metadata": {},
   "outputs": [
    {
     "data": {
      "text/plain": [
       "(207, 14)"
      ]
     },
     "execution_count": 6,
     "metadata": {},
     "output_type": "execute_result"
    }
   ],
   "source": [
    "df.shape"
   ]
  },
  {
   "cell_type": "code",
   "execution_count": 7,
   "metadata": {},
   "outputs": [
    {
     "name": "stdout",
     "output_type": "stream",
     "text": [
      "Percentage of the values complete in the columns\n"
     ]
    },
    {
     "data": {
      "text/plain": [
       "country                   100.000000\n",
       "region                    100.000000\n",
       "tfr                        95.169082\n",
       "contraception              69.565217\n",
       "educationMale              36.714976\n",
       "educationFemale            36.714976\n",
       "lifeMale                   94.685990\n",
       "lifeFemale                 94.685990\n",
       "infantMortality            97.101449\n",
       "GDPperCapita               95.169082\n",
       "economicActivityMale       79.710145\n",
       "economicActivityFemale     79.710145\n",
       "illiteracyMale             77.294686\n",
       "illiteracyFemale           77.294686\n",
       "dtype: float64"
      ]
     },
     "execution_count": 7,
     "metadata": {},
     "output_type": "execute_result"
    }
   ],
   "source": [
    "print('Percentage of the values complete in the columns')\n",
    "df.count()/df.shape[0] * 100"
   ]
  },
  {
   "cell_type": "code",
   "execution_count": 8,
   "metadata": {},
   "outputs": [],
   "source": [
    "df = df[['lifeMale', 'lifeFemale', 'infantMortality', 'GDPperCapita']]\n",
    "df = df.dropna(how='any')\n"
   ]
  },
  {
   "cell_type": "code",
   "execution_count": 9,
   "metadata": {},
   "outputs": [
    {
     "data": {
      "text/html": [
       "<div>\n",
       "<style scoped>\n",
       "    .dataframe tbody tr th:only-of-type {\n",
       "        vertical-align: middle;\n",
       "    }\n",
       "\n",
       "    .dataframe tbody tr th {\n",
       "        vertical-align: top;\n",
       "    }\n",
       "\n",
       "    .dataframe thead th {\n",
       "        text-align: right;\n",
       "    }\n",
       "</style>\n",
       "<table border=\"1\" class=\"dataframe\">\n",
       "  <thead>\n",
       "    <tr style=\"text-align: right;\">\n",
       "      <th></th>\n",
       "      <th>lifeMale</th>\n",
       "      <th>lifeFemale</th>\n",
       "      <th>infantMortality</th>\n",
       "      <th>GDPperCapita</th>\n",
       "    </tr>\n",
       "  </thead>\n",
       "  <tbody>\n",
       "    <tr>\n",
       "      <th>0</th>\n",
       "      <td>45.0</td>\n",
       "      <td>46.0</td>\n",
       "      <td>154.0</td>\n",
       "      <td>2848.0</td>\n",
       "    </tr>\n",
       "    <tr>\n",
       "      <th>1</th>\n",
       "      <td>68.0</td>\n",
       "      <td>74.0</td>\n",
       "      <td>32.0</td>\n",
       "      <td>863.0</td>\n",
       "    </tr>\n",
       "    <tr>\n",
       "      <th>2</th>\n",
       "      <td>67.5</td>\n",
       "      <td>70.3</td>\n",
       "      <td>44.0</td>\n",
       "      <td>1531.0</td>\n",
       "    </tr>\n",
       "    <tr>\n",
       "      <th>5</th>\n",
       "      <td>44.9</td>\n",
       "      <td>48.1</td>\n",
       "      <td>124.0</td>\n",
       "      <td>355.0</td>\n",
       "    </tr>\n",
       "    <tr>\n",
       "      <th>7</th>\n",
       "      <td>69.6</td>\n",
       "      <td>76.8</td>\n",
       "      <td>22.0</td>\n",
       "      <td>8055.0</td>\n",
       "    </tr>\n",
       "    <tr>\n",
       "      <th>...</th>\n",
       "      <td>...</td>\n",
       "      <td>...</td>\n",
       "      <td>...</td>\n",
       "      <td>...</td>\n",
       "    </tr>\n",
       "    <tr>\n",
       "      <th>200</th>\n",
       "      <td>64.9</td>\n",
       "      <td>69.6</td>\n",
       "      <td>37.0</td>\n",
       "      <td>270.0</td>\n",
       "    </tr>\n",
       "    <tr>\n",
       "      <th>203</th>\n",
       "      <td>57.4</td>\n",
       "      <td>58.4</td>\n",
       "      <td>80.0</td>\n",
       "      <td>732.0</td>\n",
       "    </tr>\n",
       "    <tr>\n",
       "      <th>204</th>\n",
       "      <td>69.8</td>\n",
       "      <td>75.3</td>\n",
       "      <td>19.0</td>\n",
       "      <td>1487.0</td>\n",
       "    </tr>\n",
       "    <tr>\n",
       "      <th>205</th>\n",
       "      <td>42.2</td>\n",
       "      <td>43.7</td>\n",
       "      <td>103.0</td>\n",
       "      <td>382.0</td>\n",
       "    </tr>\n",
       "    <tr>\n",
       "      <th>206</th>\n",
       "      <td>47.6</td>\n",
       "      <td>49.4</td>\n",
       "      <td>68.0</td>\n",
       "      <td>786.0</td>\n",
       "    </tr>\n",
       "  </tbody>\n",
       "</table>\n",
       "<p>188 rows × 4 columns</p>\n",
       "</div>"
      ],
      "text/plain": [
       "     lifeMale  lifeFemale  infantMortality  GDPperCapita\n",
       "0        45.0        46.0            154.0        2848.0\n",
       "1        68.0        74.0             32.0         863.0\n",
       "2        67.5        70.3             44.0        1531.0\n",
       "5        44.9        48.1            124.0         355.0\n",
       "7        69.6        76.8             22.0        8055.0\n",
       "..        ...         ...              ...           ...\n",
       "200      64.9        69.6             37.0         270.0\n",
       "203      57.4        58.4             80.0         732.0\n",
       "204      69.8        75.3             19.0        1487.0\n",
       "205      42.2        43.7            103.0         382.0\n",
       "206      47.6        49.4             68.0         786.0\n",
       "\n",
       "[188 rows x 4 columns]"
      ]
     },
     "execution_count": 9,
     "metadata": {},
     "output_type": "execute_result"
    }
   ],
   "source": [
    "df\n"
   ]
  },
  {
   "cell_type": "code",
   "execution_count": 10,
   "metadata": {},
   "outputs": [
    {
     "data": {
      "text/plain": [
       "(188, 4)"
      ]
     },
     "execution_count": 10,
     "metadata": {},
     "output_type": "execute_result"
    }
   ],
   "source": [
    "df.shape"
   ]
  },
  {
   "cell_type": "markdown",
   "metadata": {},
   "source": [
    "# Explique o que faz o comando seguinte com o valor 4, e o que sao os valores mostrados na tabela resultado? O que podera ser o valor 1418.72?\n",
    "\n",
    "Numero de grupos, as medias de cada cluster.\n",
    "E a soma das distancias todas ao ceu centroide, quanto mais perto de zero melhor."
   ]
  },
  {
   "cell_type": "code",
   "execution_count": 11,
   "metadata": {},
   "outputs": [
    {
     "name": "stderr",
     "output_type": "stream",
     "text": [
      "C:\\Users\\guibs\\AppData\\Local\\Temp\\ipykernel_24372\\894455152.py:2: DeprecationWarning: Please use `pearsonr` from the `scipy.stats` namespace, the `scipy.stats.stats` namespace is deprecated.\n",
      "  from scipy.stats.stats import pearsonr\n"
     ]
    },
    {
     "data": {
      "text/plain": [
       "(array([[7.25884615e+01, 7.82461538e+01, 1.28461538e+01, 1.35519231e+04],\n",
       "        [5.84009524e+01, 6.24123810e+01, 6.39047619e+01, 7.61380952e+02],\n",
       "        [7.44500000e+01, 8.04111111e+01, 5.94444444e+00, 2.85954444e+04],\n",
       "        [6.62410256e+01, 7.19743590e+01, 3.02307692e+01, 4.11330769e+03]]),\n",
       " 1417.8346017079832)"
      ]
     },
     "execution_count": 11,
     "metadata": {},
     "output_type": "execute_result"
    }
   ],
   "source": [
    "from math import sqrt\n",
    "from scipy.stats.stats import pearsonr\n",
    "from sklearn.cluster import KMeans\n",
    "from scipy.cluster.vq import kmeans,vq\n",
    "from scipy.spatial.distance import cdist\n",
    "\n",
    "c4= kmeans(df.values,4) \n",
    "c4"
   ]
  },
  {
   "cell_type": "code",
   "execution_count": 12,
   "metadata": {},
   "outputs": [
    {
     "data": {
      "image/png": "[encoded data removed]",
      "text/plain": [
       "<Figure size 432x288 with 1 Axes>"
      ]
     },
     "metadata": {
      "needs_background": "light"
     },
     "output_type": "display_data"
    }
   ],
   "source": [
    "plt.plot(c4[0][0][0:3])\n",
    "plt.plot(c4[0][1][0:3])\n",
    "plt.plot(c4[0][2][0:3])\n",
    "plt.plot(c4[0][3][0:3])\n",
    "\n",
    "t11=[\"lifeMale\",\"lifeFemale\",\"infantMortality\"]#,\"GDPperCapita\"]\n",
    "plt.xticks(range(len(t11)), t11, size='large')\n",
    "\n",
    "plt.show()"
   ]
  },
  {
   "cell_type": "code",
   "execution_count": 13,
   "metadata": {},
   "outputs": [
    {
     "data": {
      "image/png": "[encoded data removed]",
      "text/plain": [
       "<Figure size 432x288 with 1 Axes>"
      ]
     },
     "metadata": {
      "needs_background": "light"
     },
     "output_type": "display_data"
    }
   ],
   "source": [
    "plt.plot(c4[0][0][3])\n",
    "plt.plot(c4[0][1][3])\n",
    "plt.plot(c4[0][2][3])\n",
    "plt.plot(c4[0][3][3])\n",
    "\n",
    "t11=[\"GDPperCapita\"]\n",
    "plt.xticks(range(len(t11)), t11, size='large')\n",
    "\n",
    "plt.show()"
   ]
  },
  {
   "cell_type": "code",
   "execution_count": 14,
   "metadata": {},
   "outputs": [
    {
     "data": {
      "text/plain": [
       "(array([[  63.52606383,   68.30904255,   44.30851064, 5890.59574468]]),\n",
       " 6534.980962662017)"
      ]
     },
     "execution_count": 14,
     "metadata": {},
     "output_type": "execute_result"
    }
   ],
   "source": [
    "c1= kmeans(df.values,1) \n",
    "c1"
   ]
  },
  {
   "cell_type": "markdown",
   "metadata": {},
   "source": [
    "# O que faz o seguinte codigo? O que indica o ultimo valor de cada caso (6534, 2707,1874)\n",
    "Vai variar o numero de clusters. O ultimo valor de cada caso indica o \"err\" (a soma de todas as distancias ao seu centroide, quantos mais clusters temos menor o erro)\n"
   ]
  },
  {
   "cell_type": "code",
   "execution_count": 15,
   "metadata": {},
   "outputs": [
    {
     "data": {
      "text/plain": [
       "[(array([[  63.52606383,   68.30904255,   44.30851064, 5890.59574468]]),\n",
       "  6534.980962662017),\n",
       " (array([[6.12227273e+01, 6.57779221e+01, 5.23831169e+01, 2.19273377e+03],\n",
       "         [7.39588235e+01, 7.97735294e+01, 7.73529412e+00, 2.26397353e+04]]),\n",
       "  2707.2294867471232),\n",
       " (array([[7.43050000e+01, 8.02350000e+01, 6.60000000e+00, 2.76644500e+04],\n",
       "         [6.02309353e+01, 6.46640288e+01, 5.61007194e+01, 1.47384173e+03],\n",
       "         [7.18862069e+01, 7.75551724e+01, 1.37931034e+01, 1.20441034e+04]]),\n",
       "  1874.0284870915732),\n",
       " (array([[7.25384615e+01, 7.82807692e+01, 1.30000000e+01, 1.31136538e+04],\n",
       "         [5.83067308e+01, 6.23038462e+01, 6.42884615e+01, 7.47403846e+02],\n",
       "         [7.42631579e+01, 8.01736842e+01, 6.57894737e+00, 2.81141053e+04],\n",
       "         [6.62051282e+01, 7.18948718e+01, 3.02820513e+01, 3.96356410e+03]]),\n",
       "  1418.7297460604073),\n",
       " (array([[7.07263158e+01, 7.68000000e+01, 1.61052632e+01, 9.58663158e+03],\n",
       "         [6.56027027e+01, 7.11918919e+01, 3.22162162e+01, 3.54856757e+03],\n",
       "         [5.82823529e+01, 6.22960784e+01, 6.47647059e+01, 7.21245098e+02],\n",
       "         [7.38800000e+01, 7.90333333e+01, 9.33333333e+00, 1.78942667e+04],\n",
       "         [7.45866667e+01, 8.06066667e+01, 5.73333333e+00, 3.01338667e+04]]),\n",
       "  1118.3135036067818),\n",
       " (array([[6.52071429e+01, 6.99404762e+01, 3.91904762e+01, 1.82930952e+03],\n",
       "         [5.54797297e+01, 5.93337838e+01, 7.48513514e+01, 4.32567568e+02],\n",
       "         [6.65120000e+01, 7.21000000e+01, 2.64400000e+01, 4.36092000e+03],\n",
       "         [7.38800000e+01, 7.90333333e+01, 9.33333333e+00, 1.78942667e+04],\n",
       "         [7.45866667e+01, 8.06066667e+01, 5.73333333e+00, 3.01338667e+04],\n",
       "         [7.11117647e+01, 7.74588235e+01, 1.51764706e+01, 9.94976471e+03]]),\n",
       "  970.4445279708111),\n",
       " (array([[7.37214286e+01, 7.88357143e+01, 9.64285714e+00, 1.75368571e+04],\n",
       "         [7.47090909e+01, 8.06909091e+01, 5.81818182e+00, 2.62489091e+04],\n",
       "         [7.46200000e+01, 8.06600000e+01, 5.40000000e+00, 3.72336000e+04],\n",
       "         [5.55840000e+01, 5.94360000e+01, 7.44933333e+01, 4.40386667e+02],\n",
       "         [6.62916667e+01, 7.19208333e+01, 2.66666667e+01, 4.42037500e+03],\n",
       "         [7.11117647e+01, 7.74588235e+01, 1.51764706e+01, 9.94976471e+03],\n",
       "         [6.54095238e+01, 7.01642857e+01, 3.85476190e+01, 1.87490476e+03]]),\n",
       "  738.4380169955638),\n",
       " (array([[7.47090909e+01, 8.06909091e+01, 5.81818182e+00, 2.62489091e+04],\n",
       "         [6.42605263e+01, 6.87789474e+01, 4.15000000e+01, 1.40665789e+03],\n",
       "         [6.57375000e+01, 7.15666667e+01, 3.28750000e+01, 3.00875000e+03],\n",
       "         [6.69533333e+01, 7.24200000e+01, 2.61333333e+01, 5.49126667e+03],\n",
       "         [7.37214286e+01, 7.88357143e+01, 9.64285714e+00, 1.75368571e+04],\n",
       "         [7.46200000e+01, 8.06600000e+01, 5.40000000e+00, 3.72336000e+04],\n",
       "         [7.13333333e+01, 7.76000000e+01, 1.58000000e+01, 1.03134000e+04],\n",
       "         [5.48787879e+01, 5.85757576e+01, 7.74090909e+01, 3.67833333e+02]]),\n",
       "  645.9191541044532),\n",
       " (array([[7.13333333e+01, 7.76000000e+01, 1.58000000e+01, 1.03134000e+04],\n",
       "         [6.14285714e+01, 6.55535714e+01, 5.32500000e+01, 9.26285714e+02],\n",
       "         [7.47090909e+01, 8.06909091e+01, 5.81818182e+00, 2.62489091e+04],\n",
       "         [7.46200000e+01, 8.06600000e+01, 5.40000000e+00, 3.72336000e+04],\n",
       "         [7.37214286e+01, 7.88357143e+01, 9.64285714e+00, 1.75368571e+04],\n",
       "         [6.56304348e+01, 7.14739130e+01, 3.32608696e+01, 3.04326087e+03],\n",
       "         [6.69533333e+01, 7.24200000e+01, 2.61333333e+01, 5.49126667e+03],\n",
       "         [6.62863636e+01, 7.13409091e+01, 2.94545455e+01, 1.71131818e+03],\n",
       "         [5.37054545e+01, 5.72418182e+01, 8.31090909e+01, 2.97454545e+02]]),\n",
       "  604.3787853896416)]"
      ]
     },
     "execution_count": 15,
     "metadata": {},
     "output_type": "execute_result"
    }
   ],
   "source": [
    "K = range(1,10)\n",
    "# scipy.cluster.vq.kmeans\n",
    "KM = [kmeans(df.values,k) for k in K] # apply kmeans 1 to 10\n",
    "KM"
   ]
  },
  {
   "cell_type": "code",
   "execution_count": 16,
   "metadata": {},
   "outputs": [
    {
     "data": {
      "text/plain": [
       "(array([[  63.52606383,   68.30904255,   44.30851064, 5890.59574468]]),\n",
       " 6534.980962662017)"
      ]
     },
     "execution_count": 16,
     "metadata": {},
     "output_type": "execute_result"
    }
   ],
   "source": [
    "KM[0]"
   ]
  },
  {
   "cell_type": "code",
   "execution_count": 17,
   "metadata": {},
   "outputs": [
    {
     "data": {
      "text/plain": [
       "(array([[6.12227273e+01, 6.57779221e+01, 5.23831169e+01, 2.19273377e+03],\n",
       "        [7.39588235e+01, 7.97735294e+01, 7.73529412e+00, 2.26397353e+04]]),\n",
       " 2707.2294867471232)"
      ]
     },
     "execution_count": 17,
     "metadata": {},
     "output_type": "execute_result"
    }
   ],
   "source": [
    "KM[1]"
   ]
  },
  {
   "cell_type": "markdown",
   "metadata": {},
   "source": [
    "# E o que fará cada uma das celulas de codigo seguintes?\n",
    "O calculo do erro anterior mas feito a mao"
   ]
  },
  {
   "cell_type": "code",
   "execution_count": 18,
   "metadata": {},
   "outputs": [],
   "source": [
    "euclidean_centroid = [cdist(df.values, centroid, 'euclidean') for (centroid,var) in KM]\n",
    "\n"
   ]
  },
  {
   "cell_type": "code",
   "execution_count": 19,
   "metadata": {},
   "outputs": [
    {
     "name": "stdout",
     "output_type": "stream",
     "text": [
      "-----with 1 cluster------\n",
      "[[3044.71049474]\n",
      " [5027.61602297]\n",
      " [4359.59802141]\n",
      " [5536.23755972]\n",
      " [2164.54439528]]\n"
     ]
    }
   ],
   "source": [
    "print ('-----with 1 cluster------')\n",
    "print (euclidean_centroid[0][:5])\n"
   ]
  },
  {
   "cell_type": "code",
   "execution_count": 20,
   "metadata": {},
   "outputs": [
    {
     "name": "stdout",
     "output_type": "stream",
     "text": [
      "-----with 2 cluster------\n",
      "[[  663.5918709  19792.32574968]\n",
      " [ 1329.9326654  21776.75039319]\n",
      " [  661.83208396 21108.76955936]\n",
      " [ 1839.28608809 22285.08003662]\n",
      " [ 5862.36131557 14584.74322443]]\n"
     ]
    }
   ],
   "source": [
    "print ('-----with 2 cluster------')\n",
    "print (euclidean_centroid[1][:5])\n"
   ]
  },
  {
   "cell_type": "code",
   "execution_count": 21,
   "metadata": {},
   "outputs": [],
   "source": [
    "dist = [np.min(D,axis=1) for D in euclidean_centroid]\n"
   ]
  },
  {
   "cell_type": "code",
   "execution_count": 22,
   "metadata": {},
   "outputs": [
    {
     "name": "stdout",
     "output_type": "stream",
     "text": [
      "-----with 1st cluster------\n",
      "[3044.71049474 5027.61602297 4359.59802141 5536.23755972 2164.54439528]\n",
      "-----with 2nd cluster------\n",
      "[ 663.5918709  1329.9326654   661.83208396 1839.28608809 5862.36131557]\n"
     ]
    }
   ],
   "source": [
    "print ('-----with 1st cluster------')\n",
    "print (dist[0][:5])\n",
    "print ('-----with 2nd cluster------')\n",
    "print (dist[1][:5])\n"
   ]
  },
  {
   "cell_type": "code",
   "execution_count": 23,
   "metadata": {},
   "outputs": [
    {
     "data": {
      "text/plain": [
       "[6534.980962662014,\n",
       " 2790.210119330013,\n",
       " 1890.9166153060164,\n",
       " 1438.7793254224125,\n",
       " 1122.2625658294346,\n",
       " 972.5380755800172,\n",
       " 740.45942949866,\n",
       " 645.9191541044534,\n",
       " 604.3787853896418]"
      ]
     },
     "execution_count": 23,
     "metadata": {},
     "output_type": "execute_result"
    }
   ],
   "source": [
    "avgWithinSS = [sum(d)/df.values.shape[0] for d in dist]\n",
    "avgWithinSS"
   ]
  },
  {
   "cell_type": "markdown",
   "metadata": {},
   "source": [
    "# Para que serve o seguinte grafico, o que é o cotovelo (elbow) e o que significa o ponto vermelho?\n",
    "Como varia a soma do error em volta do numero de clusters, o vermelho e o numero que se deveria escolher para os dados"
   ]
  },
  {
   "cell_type": "code",
   "execution_count": 24,
   "metadata": {},
   "outputs": [
    {
     "data": {
      "image/png": "[encoded data removed]",
      "text/plain": [
       "<Figure size 432x288 with 1 Axes>"
      ]
     },
     "metadata": {
      "needs_background": "light"
     },
     "output_type": "display_data"
    }
   ],
   "source": [
    "#Choosing the cluster number\n",
    "kIdx = 2\n",
    "# plot elbow curve\n",
    "fig = plt.figure()\n",
    "ax = fig.add_subplot(111)\n",
    "ax.plot(K, avgWithinSS, 'b*-')\n",
    "ax.plot(K[kIdx], avgWithinSS[kIdx], marker='o', markersize=12, markeredgewidth=2, markeredgecolor='r', markerfacecolor='None')\n",
    "plt.grid(True)\n",
    "plt.xlabel('Number of clusters')\n",
    "plt.ylabel('Average within-cluster sum of squares')\n",
    "tt = plt.title('Elbow for K-Means clustering')\n",
    "plt.show()"
   ]
  },
  {
   "cell_type": "code",
   "execution_count": 25,
   "metadata": {},
   "outputs": [
    {
     "data": {
      "text/html": [
       "<div>\n",
       "<style scoped>\n",
       "    .dataframe tbody tr th:only-of-type {\n",
       "        vertical-align: middle;\n",
       "    }\n",
       "\n",
       "    .dataframe tbody tr th {\n",
       "        vertical-align: top;\n",
       "    }\n",
       "\n",
       "    .dataframe thead th {\n",
       "        text-align: right;\n",
       "    }\n",
       "</style>\n",
       "<table border=\"1\" class=\"dataframe\">\n",
       "  <thead>\n",
       "    <tr style=\"text-align: right;\">\n",
       "      <th></th>\n",
       "      <th>lifeMale</th>\n",
       "      <th>lifeFemale</th>\n",
       "      <th>infantMortality</th>\n",
       "      <th>GDPperCapita</th>\n",
       "    </tr>\n",
       "  </thead>\n",
       "  <tbody>\n",
       "    <tr>\n",
       "      <th>0</th>\n",
       "      <td>45.0</td>\n",
       "      <td>46.0</td>\n",
       "      <td>154.0</td>\n",
       "      <td>2848.0</td>\n",
       "    </tr>\n",
       "    <tr>\n",
       "      <th>1</th>\n",
       "      <td>68.0</td>\n",
       "      <td>74.0</td>\n",
       "      <td>32.0</td>\n",
       "      <td>863.0</td>\n",
       "    </tr>\n",
       "    <tr>\n",
       "      <th>2</th>\n",
       "      <td>67.5</td>\n",
       "      <td>70.3</td>\n",
       "      <td>44.0</td>\n",
       "      <td>1531.0</td>\n",
       "    </tr>\n",
       "    <tr>\n",
       "      <th>5</th>\n",
       "      <td>44.9</td>\n",
       "      <td>48.1</td>\n",
       "      <td>124.0</td>\n",
       "      <td>355.0</td>\n",
       "    </tr>\n",
       "    <tr>\n",
       "      <th>7</th>\n",
       "      <td>69.6</td>\n",
       "      <td>76.8</td>\n",
       "      <td>22.0</td>\n",
       "      <td>8055.0</td>\n",
       "    </tr>\n",
       "    <tr>\n",
       "      <th>...</th>\n",
       "      <td>...</td>\n",
       "      <td>...</td>\n",
       "      <td>...</td>\n",
       "      <td>...</td>\n",
       "    </tr>\n",
       "    <tr>\n",
       "      <th>200</th>\n",
       "      <td>64.9</td>\n",
       "      <td>69.6</td>\n",
       "      <td>37.0</td>\n",
       "      <td>270.0</td>\n",
       "    </tr>\n",
       "    <tr>\n",
       "      <th>203</th>\n",
       "      <td>57.4</td>\n",
       "      <td>58.4</td>\n",
       "      <td>80.0</td>\n",
       "      <td>732.0</td>\n",
       "    </tr>\n",
       "    <tr>\n",
       "      <th>204</th>\n",
       "      <td>69.8</td>\n",
       "      <td>75.3</td>\n",
       "      <td>19.0</td>\n",
       "      <td>1487.0</td>\n",
       "    </tr>\n",
       "    <tr>\n",
       "      <th>205</th>\n",
       "      <td>42.2</td>\n",
       "      <td>43.7</td>\n",
       "      <td>103.0</td>\n",
       "      <td>382.0</td>\n",
       "    </tr>\n",
       "    <tr>\n",
       "      <th>206</th>\n",
       "      <td>47.6</td>\n",
       "      <td>49.4</td>\n",
       "      <td>68.0</td>\n",
       "      <td>786.0</td>\n",
       "    </tr>\n",
       "  </tbody>\n",
       "</table>\n",
       "<p>188 rows × 4 columns</p>\n",
       "</div>"
      ],
      "text/plain": [
       "     lifeMale  lifeFemale  infantMortality  GDPperCapita\n",
       "0        45.0        46.0            154.0        2848.0\n",
       "1        68.0        74.0             32.0         863.0\n",
       "2        67.5        70.3             44.0        1531.0\n",
       "5        44.9        48.1            124.0         355.0\n",
       "7        69.6        76.8             22.0        8055.0\n",
       "..        ...         ...              ...           ...\n",
       "200      64.9        69.6             37.0         270.0\n",
       "203      57.4        58.4             80.0         732.0\n",
       "204      69.8        75.3             19.0        1487.0\n",
       "205      42.2        43.7            103.0         382.0\n",
       "206      47.6        49.4             68.0         786.0\n",
       "\n",
       "[188 rows x 4 columns]"
      ]
     },
     "execution_count": 25,
     "metadata": {},
     "output_type": "execute_result"
    }
   ],
   "source": [
    "df"
   ]
  },
  {
   "cell_type": "markdown",
   "metadata": {},
   "source": [
    "# Como se obtem o segmento de cada pais?\n"
   ]
  },
  {
   "cell_type": "code",
   "execution_count": 26,
   "metadata": {},
   "outputs": [
    {
     "data": {
      "text/html": [
       "<div>\n",
       "<style scoped>\n",
       "    .dataframe tbody tr th:only-of-type {\n",
       "        vertical-align: middle;\n",
       "    }\n",
       "\n",
       "    .dataframe tbody tr th {\n",
       "        vertical-align: top;\n",
       "    }\n",
       "\n",
       "    .dataframe thead th {\n",
       "        text-align: right;\n",
       "    }\n",
       "</style>\n",
       "<table border=\"1\" class=\"dataframe\">\n",
       "  <thead>\n",
       "    <tr style=\"text-align: right;\">\n",
       "      <th></th>\n",
       "      <th>lifeMale</th>\n",
       "      <th>lifeFemale</th>\n",
       "      <th>infantMortality</th>\n",
       "      <th>GDPperCapita</th>\n",
       "      <th>countrySegment</th>\n",
       "    </tr>\n",
       "  </thead>\n",
       "  <tbody>\n",
       "    <tr>\n",
       "      <th>0</th>\n",
       "      <td>45.0</td>\n",
       "      <td>46.0</td>\n",
       "      <td>154.0</td>\n",
       "      <td>2848.0</td>\n",
       "      <td>1</td>\n",
       "    </tr>\n",
       "    <tr>\n",
       "      <th>1</th>\n",
       "      <td>68.0</td>\n",
       "      <td>74.0</td>\n",
       "      <td>32.0</td>\n",
       "      <td>863.0</td>\n",
       "      <td>1</td>\n",
       "    </tr>\n",
       "    <tr>\n",
       "      <th>2</th>\n",
       "      <td>67.5</td>\n",
       "      <td>70.3</td>\n",
       "      <td>44.0</td>\n",
       "      <td>1531.0</td>\n",
       "      <td>1</td>\n",
       "    </tr>\n",
       "    <tr>\n",
       "      <th>5</th>\n",
       "      <td>44.9</td>\n",
       "      <td>48.1</td>\n",
       "      <td>124.0</td>\n",
       "      <td>355.0</td>\n",
       "      <td>1</td>\n",
       "    </tr>\n",
       "    <tr>\n",
       "      <th>7</th>\n",
       "      <td>69.6</td>\n",
       "      <td>76.8</td>\n",
       "      <td>22.0</td>\n",
       "      <td>8055.0</td>\n",
       "      <td>0</td>\n",
       "    </tr>\n",
       "  </tbody>\n",
       "</table>\n",
       "</div>"
      ],
      "text/plain": [
       "   lifeMale  lifeFemale  infantMortality  GDPperCapita  countrySegment\n",
       "0      45.0        46.0            154.0        2848.0               1\n",
       "1      68.0        74.0             32.0         863.0               1\n",
       "2      67.5        70.3             44.0        1531.0               1\n",
       "5      44.9        48.1            124.0         355.0               1\n",
       "7      69.6        76.8             22.0        8055.0               0"
      ]
     },
     "execution_count": 26,
     "metadata": {},
     "output_type": "execute_result"
    }
   ],
   "source": [
    "km = KMeans(3, init='k-means++', random_state = 3425) # initialize\n",
    "km.fit(df.values)\n",
    "df['countrySegment'] = km.predict(df.values)\n",
    "df[:5]\n"
   ]
  },
  {
   "cell_type": "code",
   "execution_count": 27,
   "metadata": {},
   "outputs": [
    {
     "data": {
      "text/plain": [
       "countrySegment\n",
       "0    13800.586207\n",
       "1     1624.538462\n",
       "2    29681.625000\n",
       "Name: GDPperCapita, dtype: float64"
      ]
     },
     "execution_count": 27,
     "metadata": {},
     "output_type": "execute_result"
    }
   ],
   "source": [
    "df.groupby('countrySegment').GDPperCapita.mean()"
   ]
  },
  {
   "cell_type": "code",
   "execution_count": 28,
   "metadata": {},
   "outputs": [
    {
     "data": {
      "text/plain": [
       "countrySegment\n",
       "0    72.486207\n",
       "1    60.460839\n",
       "2    74.681250\n",
       "Name: lifeMale, dtype: float64"
      ]
     },
     "execution_count": 28,
     "metadata": {},
     "output_type": "execute_result"
    }
   ],
   "source": [
    "df.groupby('countrySegment').lifeMale.mean()"
   ]
  },
  {
   "cell_type": "code",
   "execution_count": 29,
   "metadata": {},
   "outputs": [
    {
     "data": {
      "text/plain": [
       "array([[7.24862069e+01, 7.81965517e+01, 1.28275862e+01, 1.38005862e+04],\n",
       "       [6.04608392e+01, 6.49195804e+01, 5.50139860e+01, 1.62453846e+03],\n",
       "       [7.46812500e+01, 8.06812500e+01, 5.68750000e+00, 2.96816250e+04]])"
      ]
     },
     "execution_count": 29,
     "metadata": {},
     "output_type": "execute_result"
    }
   ],
   "source": [
    "km.cluster_centers_"
   ]
  },
  {
   "cell_type": "code",
   "execution_count": 30,
   "metadata": {},
   "outputs": [
    {
     "data": {
      "text/html": [
       "<div>\n",
       "<style scoped>\n",
       "    .dataframe tbody tr th:only-of-type {\n",
       "        vertical-align: middle;\n",
       "    }\n",
       "\n",
       "    .dataframe tbody tr th {\n",
       "        vertical-align: top;\n",
       "    }\n",
       "\n",
       "    .dataframe thead th {\n",
       "        text-align: right;\n",
       "    }\n",
       "</style>\n",
       "<table border=\"1\" class=\"dataframe\">\n",
       "  <thead>\n",
       "    <tr style=\"text-align: right;\">\n",
       "      <th></th>\n",
       "      <th>lifeMale</th>\n",
       "      <th>lifeFemale</th>\n",
       "      <th>infantMortality</th>\n",
       "      <th>GDPperCapita</th>\n",
       "      <th>countrySegment</th>\n",
       "    </tr>\n",
       "  </thead>\n",
       "  <tbody>\n",
       "    <tr>\n",
       "      <th>0</th>\n",
       "      <td>45.0</td>\n",
       "      <td>46.0</td>\n",
       "      <td>154.0</td>\n",
       "      <td>2848.0</td>\n",
       "      <td>Under Developed</td>\n",
       "    </tr>\n",
       "    <tr>\n",
       "      <th>1</th>\n",
       "      <td>68.0</td>\n",
       "      <td>74.0</td>\n",
       "      <td>32.0</td>\n",
       "      <td>863.0</td>\n",
       "      <td>Under Developed</td>\n",
       "    </tr>\n",
       "    <tr>\n",
       "      <th>2</th>\n",
       "      <td>67.5</td>\n",
       "      <td>70.3</td>\n",
       "      <td>44.0</td>\n",
       "      <td>1531.0</td>\n",
       "      <td>Under Developed</td>\n",
       "    </tr>\n",
       "    <tr>\n",
       "      <th>5</th>\n",
       "      <td>44.9</td>\n",
       "      <td>48.1</td>\n",
       "      <td>124.0</td>\n",
       "      <td>355.0</td>\n",
       "      <td>Under Developed</td>\n",
       "    </tr>\n",
       "    <tr>\n",
       "      <th>7</th>\n",
       "      <td>69.6</td>\n",
       "      <td>76.8</td>\n",
       "      <td>22.0</td>\n",
       "      <td>8055.0</td>\n",
       "      <td>Developing</td>\n",
       "    </tr>\n",
       "    <tr>\n",
       "      <th>8</th>\n",
       "      <td>67.2</td>\n",
       "      <td>74.0</td>\n",
       "      <td>25.0</td>\n",
       "      <td>354.0</td>\n",
       "      <td>Under Developed</td>\n",
       "    </tr>\n",
       "    <tr>\n",
       "      <th>9</th>\n",
       "      <td>75.4</td>\n",
       "      <td>81.2</td>\n",
       "      <td>6.0</td>\n",
       "      <td>20046.0</td>\n",
       "      <td>Developing</td>\n",
       "    </tr>\n",
       "    <tr>\n",
       "      <th>10</th>\n",
       "      <td>73.7</td>\n",
       "      <td>80.1</td>\n",
       "      <td>6.0</td>\n",
       "      <td>29006.0</td>\n",
       "      <td>Developed</td>\n",
       "    </tr>\n",
       "    <tr>\n",
       "      <th>11</th>\n",
       "      <td>66.5</td>\n",
       "      <td>74.5</td>\n",
       "      <td>33.0</td>\n",
       "      <td>321.0</td>\n",
       "      <td>Under Developed</td>\n",
       "    </tr>\n",
       "    <tr>\n",
       "      <th>12</th>\n",
       "      <td>70.5</td>\n",
       "      <td>77.1</td>\n",
       "      <td>14.0</td>\n",
       "      <td>12545.0</td>\n",
       "      <td>Developing</td>\n",
       "    </tr>\n",
       "  </tbody>\n",
       "</table>\n",
       "</div>"
      ],
      "text/plain": [
       "    lifeMale  lifeFemale  infantMortality  GDPperCapita   countrySegment\n",
       "0       45.0        46.0            154.0        2848.0  Under Developed\n",
       "1       68.0        74.0             32.0         863.0  Under Developed\n",
       "2       67.5        70.3             44.0        1531.0  Under Developed\n",
       "5       44.9        48.1            124.0         355.0  Under Developed\n",
       "7       69.6        76.8             22.0        8055.0       Developing\n",
       "8       67.2        74.0             25.0         354.0  Under Developed\n",
       "9       75.4        81.2              6.0       20046.0       Developing\n",
       "10      73.7        80.1              6.0       29006.0        Developed\n",
       "11      66.5        74.5             33.0         321.0  Under Developed\n",
       "12      70.5        77.1             14.0       12545.0       Developing"
      ]
     },
     "execution_count": 30,
     "metadata": {},
     "output_type": "execute_result"
    }
   ],
   "source": [
    "clust_map = {\n",
    "       0:'Developing',\n",
    "       1:'Under Developed',\n",
    "       2:'Developed'\n",
    "   }\n",
    "df.countrySegment = df.countrySegment.map(clust_map)\n",
    "df[:10]\n"
   ]
  },
  {
   "cell_type": "markdown",
   "metadata": {},
   "source": [
    "# O que concluimos pelos dois graficos seguintes?\n",
    "Infant Mortality e maior para paises under devolped.\n",
    "No entanto, nao e por ser muito pobre que o pais tenha alta infant mortality, porque existem paises que podem ter bons servicos ou boa qualidade de agua"
   ]
  },
  {
   "cell_type": "code",
   "execution_count": 31,
   "metadata": {},
   "outputs": [
    {
     "data": {
      "image/png": "[encoded data removed]",
      "text/plain": [
       "<Figure size 432x288 with 1 Axes>"
      ]
     },
     "metadata": {
      "needs_background": "light"
     },
     "output_type": "display_data"
    }
   ],
   "source": [
    "d_color = {\n",
    "       'Developing':'y',\n",
    "       'Under Developed':'r',\n",
    "       'Developed':'g'\n",
    "   }\n",
    "fig, ax = plt.subplots()\n",
    "for clust in clust_map.values():\n",
    "       color = d_color[clust]\n",
    "       df[df.countrySegment == clust].plot(kind='scatter',\n",
    "            x='GDPperCapita', y='infantMortality', label=clust,\n",
    "            ax=ax, color=color)\n",
    "handles, labels = ax.get_legend_handles_labels()\n",
    "_ = ax.legend(handles, labels, loc=\"upper right\")\n",
    "plt.show()"
   ]
  },
  {
   "cell_type": "code",
   "execution_count": 32,
   "metadata": {
    "scrolled": true
   },
   "outputs": [
    {
     "data": {
      "image/png": "[encoded data removed]",
      "text/plain": [
       "<Figure size 432x288 with 1 Axes>"
      ]
     },
     "metadata": {
      "needs_background": "light"
     },
     "output_type": "display_data"
    }
   ],
   "source": [
    "fig, ax = plt.subplots()\n",
    "for clust in clust_map.values():\n",
    "       color = d_color[clust]\n",
    "       df[df.countrySegment == clust].plot(kind='scatter',\n",
    "                    x='GDPperCapita', y='lifeMale', label=clust,\n",
    "                    ax=ax, color=color)\n",
    "handles, labels = ax.get_legend_handles_labels()\n",
    "_ = ax.legend(handles, labels, loc=\"lower right\")\n",
    "plt.show()"
   ]
  },
  {
   "cell_type": "code",
   "execution_count": null,
   "metadata": {},
   "outputs": [],
   "source": []
  },
  {
   "cell_type": "code",
   "execution_count": null,
   "metadata": {},
   "outputs": [],
   "source": []
  }
 ],
 "metadata": {
  "kernelspec": {
   "display_name": "Python 3 (ipykernel)",
   "language": "python",
   "name": "python3"
  },
  "language_info": {
   "codemirror_mode": {
    "name": "ipython",
    "version": 3
   },
   "file_extension": ".py",
   "mimetype": "text/x-python",
   "name": "python",
   "nbconvert_exporter": "python",
   "pygments_lexer": "ipython3",
   "version": "3.10.4"
  },
  "toc": {
   "base_numbering": 1,
   "nav_menu": {},
   "number_sections": true,
   "sideBar": true,
   "skip_h1_title": false,
   "title_cell": "Table of Contents",
   "title_sidebar": "Contents",
   "toc_cell": false,
   "toc_position": {},
   "toc_section_display": true,
   "toc_window_display": false
  },
  "varInspector": {
   "cols": {
    "lenName": 16,
    "lenType": 16,
    "lenVar": 40
   },
   "kernels_config": {
    "python": {
     "delete_cmd_postfix": "",
     "delete_cmd_prefix": "del ",
     "library": "var_list.py",
     "varRefreshCmd": "print(var_dic_list())"
    },
    "r": {
     "delete_cmd_postfix": ") ",
     "delete_cmd_prefix": "rm(",
     "library": "var_list.r",
     "varRefreshCmd": "cat(var_dic_list()) "
    }
   },
   "types_to_exclude": [
    "module",
    "function",
    "builtin_function_or_method",
    "instance",
    "_Feature"
   ],
   "window_display": false
  }
 },
 "nbformat": 4,
 "nbformat_minor": 4
}
