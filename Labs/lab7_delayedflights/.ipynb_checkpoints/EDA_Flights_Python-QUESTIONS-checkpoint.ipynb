{
 "cells": [
  {
   "cell_type": "markdown",
   "metadata": {},
   "source": [
    "# Introdução = descrição e atributos"
   ]
  },
  {
   "cell_type": "markdown",
   "metadata": {},
   "source": [
    "Flight delays<br><br>\n",
    "\n",
    "\n",
    "According to a 2010 report made by the US Federal Aviation Administration, the economic price of domestic flight delays entails a yearly cost of 32.9 billion dollars to passengers, airlines and other parts of the economy. \n",
    "\n",
    "\n",
    "But, what are the causes for these delays?\n",
    "\n",
    "In order to answer this question, we are going to analyze the provided dataset, containing up to 1.936.758 different internal flights in the US for 2008 and their causes for delay, diversion and cancellation; if any.\n",
    "\n",
    "The data comes from the U.S. Department of Transportation's (DOT) Bureau of Transportation Statistics (BTS).<br><br>\n",
    "The results are tentative.<br><br>\n",
    "This dataset is composed by the following variables:<br><br>\n",
    "\n",
    "Year 2008<br><br>\n",
    "Month 1-12<br><br>\n",
    "DayofMonth 1-31<br><br>\n",
    "DayOfWeek 1 (Monday) - 7 (Sunday)<br><br>\n",
    "DepTime actual departure time (local, hhmm)<br><br>\n",
    "CRSDepTime scheduled departure time (local, hhmm)<br><br>\n",
    "ArrTime actual arrival time (local, hhmm)<br><br>\n",
    "CRSArrTime scheduled arrival time (local, hhmm)<br><br>\n",
    "UniqueCarrier unique carrier code<br><br>\n",
    "FlightNum flight number<br><br>\n",
    "TailNum plane tail number: aircraft registration, unique aircraft identifier<br><br>\n",
    "ActualElapsedTime in minutes<br><br>\n",
    "CRSElapsedTime in minutes<br><br>\n",
    "AirTime in minutes<br><br>\n",
    "ArrDelay arrival delay, in minutes: A flight is counted as \"on time\" if it operated less than 15 minutes later the scheduled time shown in the carriers' Computerized Reservations Systems (CRS).<br><br>\n",
    "DepDelay departure delay, in minutes<br><br>\n",
    "Origin origin IATA airport code<br><br>\n",
    "Dest destination IATA airport code<br><br>\n",
    "Distance in miles<br><br>\n",
    "TaxiIn taxi in time, in minutes<br><br>\n",
    "TaxiOut taxi out time in minutes<br><br>\n",
    "Cancelled *was the flight cancelled<br><br>\n",
    "\n",
    "CancellationCode reason for cancellation (A = carrier, B = weather, C = NAS, D = security)<br><br>\n",
    "\n",
    "Diverted 1 = yes, 0 = no<br><br>\n",
    "\n",
    "CarrierDelay in minutes: Carrier delay is within the control of the air carrier. Examples of occurrences that may determine carrier delay are: aircraft cleaning, aircraft damage, awaiting the arrival of connecting passengers or crew, baggage, bird strike, cargo loading, catering, computer, outage-carrier equipment, crew legality (pilot or attendant rest), damage by hazardous goods, engineering inspection, fueling, handling disabled passengers, late crew, lavatory servicing, maintenance, oversales, potable water servicing, removal of unruly passenger, slow boarding or seating, stowing carry-on baggage, weight and balance delays.<br><br>\n",
    "\n",
    "WeatherDelay in minutes: Weather delay is caused by extreme or hazardous weather conditions that are forecasted or manifest themselves on point of departure, enroute, or on point of arrival.<br><br>\n",
    "\n",
    "NASDelay in minutes: Delay that is within the control of the National Airspace System (NAS) may include: non-extreme weather conditions, airport operations, heavy traffic volume, air traffic control, etc.<br><br>\n",
    "\n",
    "SecurityDelay in minutes: Security delay is caused by evacuation of a terminal or concourse, re-boarding of aircraft because of security breach, inoperative screening equipment and/or long lines in excess of 29 minutes at screening areas.<br><br>\n",
    "\n",
    "\n",
    "LateAircraftDelay in minutes: Arrival delay at an airport due to the late arrival of the same aircraft at a previous airport. The ripple effect of an earlier delay at downstream airports is referred to as delay propagation.<br><br><br>\n"
   ]
  },
  {
   "cell_type": "markdown",
   "metadata": {},
   "source": [
    "# Leia os delayed flights"
   ]
  },
  {
   "cell_type": "code",
   "execution_count": null,
   "metadata": {},
   "outputs": [],
   "source": [
    "#import needed libraries & float format definition\n",
    "\n",
    "import unicodecsv\n",
    "import pandas as pd\n",
    "import numpy as np\n",
    "import matplotlib.pyplot as plt\n",
    "import seaborn as sns\n",
    "import datetime as dt\n",
    "from scipy import stats\n",
    "from scipy.stats import norm\n",
    "\n",
    "\n",
    "pd.options.display.float_format = '{:.0f}'.format"
   ]
  },
  {
   "cell_type": "code",
   "execution_count": null,
   "metadata": {},
   "outputs": [],
   "source": [
    "# Reading and showing head data\n",
    "import os\n",
    "\n",
    "os.chdir('C:\\\\Users\\\\guibs\\\\Desktop\\\\lab7_delayedflights')\n",
    "\n",
    "flights = pd.read_csv(\"DelayedFlights.csv\")\n",
    "flights.head()"
   ]
  },
  {
   "cell_type": "markdown",
   "metadata": {
    "tags": []
   },
   "source": [
    "# Quais as principais correlacoes? Como conclui isso pela matriz?\n",
    "    Distance is Related with Elapsed Time, CRS Time e Air Time  mas nao nos dizem nada de muito importante\n",
    "    Arrival delay esta relacionado com o carrier delay e com late arrival delay, significa que estao fortemente relacionados pelos atrasos pela companhia ex: problema num aviao causa problemas nos voos seguintes.\n"
   ]
  },
  {
   "cell_type": "code",
   "execution_count": null,
   "metadata": {},
   "outputs": [],
   "source": [
    "#correlation matrix\n",
    "corrmat = flights.corr()\n",
    "f, ax = plt.subplots(figsize=(15, 12))\n",
    "sns.heatmap(corrmat, vmax=.8, square=True);\n",
    "plt.show()"
   ]
  },
  {
   "cell_type": "markdown",
   "metadata": {},
   "source": [
    "# Pre-processamentos"
   ]
  },
  {
   "cell_type": "code",
   "execution_count": null,
   "metadata": {},
   "outputs": [],
   "source": [
    "# creating new variables and renaming \n",
    "flights['DepDate'] = pd.to_datetime(flights.Year*10000+flights.Month*100+flights.DayofMonth,format='%Y%m%d')\n",
    "\n",
    "#Status represents wether the flight was on time (0), slightly delayed (1), highly delayed (2), diverted (3), or cancelled (4)\n",
    "for dataset in flights:\n",
    "    flights.loc[flights['ArrDelay'] <= 15, 'Status'] = 0\n",
    "    flights.loc[flights['ArrDelay'] >= 15, 'Status'] = 1\n",
    "    flights.loc[flights['ArrDelay'] >= 60, 'Status'] = 2\n",
    "    flights.loc[flights['Diverted'] == 1, 'Status'] = 3\n",
    "    flights.loc[flights['Cancelled'] == 1, 'Status'] = 4\n",
    "    \n",
    " \n",
    "for dataset in flights:\n",
    "    flights.loc[flights['ArrDelay'] <= 15, 'StatusLabel'] = '<= 15'\n",
    "    flights.loc[flights['ArrDelay'] >= 15, 'StatusLabel'] = '>= 15'\n",
    "    flights.loc[flights['ArrDelay'] >= 60, 'StatusLabel'] = '>= 60'\n",
    "    flights.loc[flights['Diverted'] == 1, 'StatusLabel'] = 'Divert'\n",
    "    flights.loc[flights['Cancelled'] == 1, 'StatusLabel'] = 'Cancel'\n",
    "\n",
    "#Cancellation cause\n",
    "flights.loc[flights[\"CancellationCode\"] ==\"A\", 'CancellationCode'] = \"0\"\n",
    "flights.loc[flights[\"CancellationCode\"] ==\"B\", 'CancellationCode'] = \"1\"\n",
    "flights.loc[flights[\"CancellationCode\"] ==\"C\", 'CancellationCode'] = \"2\"\n",
    "\n",
    "# dropping the unwanted data  \n",
    "flights = flights.drop(\"Unnamed: 0\",1) #Empty\n",
    "flights = flights.drop(\"Year\",1) #Converted to date\n",
    "flights = flights.drop(\"DayofMonth\",1) #Converted to date\n",
    "flights = flights.drop(\"DepTime\",1) #Of the departure data we only keep the expected \n",
    "flights = flights.drop(\"DepDelay\",1)\n",
    "flights = flights.drop(\"ArrTime\",1)\n",
    "flights = flights.drop(\"CRSArrTime\",1)\n",
    "flights = flights.drop(\"ActualElapsedTime\",1)\n",
    "flights = flights.drop(\"CRSElapsedTime\",1)\n",
    "flights = flights.drop(\"Diverted\",1)\n",
    "flights = flights.drop(\"Cancelled\",1)\n",
    "flights = flights.drop(\"Distance\",1)\n",
    "flights = flights.drop(\"FlightNum\",1)\n",
    "flights = flights.drop(\"TailNum\",1)"
   ]
  },
  {
   "cell_type": "code",
   "execution_count": null,
   "metadata": {},
   "outputs": [],
   "source": [
    "flights.head()"
   ]
  },
  {
   "cell_type": "markdown",
   "metadata": {},
   "source": [
    "# Como se dividem os voos em termos de atrasos (%) nesse ano?\n",
    "Maior parte dos atrasos sao pequenos, sendo uma pequena parte maiores, no total do voos maior parte deles teve pelo menos um tipo de atraso (~60% dos voos teve atrasos)"
   ]
  },
  {
   "cell_type": "code",
   "execution_count": null,
   "metadata": {},
   "outputs": [],
   "source": [
    "plt.rcParams['font.size'] = '16'\n",
    "\n",
    "print('Status represents wether the flight was on time (0), slightly delayed (1), highly delayed (2), diverted (3), or cancelled (4)')\n",
    "\n",
    "f, ax = plt.subplots(figsize=(15, 12))\n",
    "flights['Status'].value_counts().plot.pie(explode=[0.05,0.05,0.05,0,0],autopct='%1.1f%%',ax=ax,shadow=True)\n",
    "ax.set_title('Status')\n",
    "\n",
    "\n",
    "f, ax = plt.subplots(figsize=(15, 12))\n",
    "sns.countplot('Status',order = flights['Status'].value_counts().index, data=flights,ax=ax)\n",
    "ax.set_title('Status', fontsize=16)\n",
    "plt.show()\n",
    "\n",
    "\n"
   ]
  },
  {
   "cell_type": "markdown",
   "metadata": {},
   "source": [
    "# Como é que se dividiram os cancelamentos relativamente a causas destes, e o que é o NAS?\n",
    "Carrier principal, em segundo o weather e por fim o National Airport Security\n"
   ]
  },
  {
   "cell_type": "code",
   "execution_count": null,
   "metadata": {},
   "outputs": [],
   "source": [
    "\n",
    "print('0 = carrier, 1 = weather, 2 = NAS')\n",
    "\n",
    "CancFlights = flights[(flights.Status == 4)]\n",
    "\n",
    "f,ax=plt.subplots(1,2,figsize=(20,8))\n",
    "CancFlights['CancellationCode'].value_counts().plot.pie(explode=[0.05,0.05,0.05,],autopct='%1.1f%%',ax=ax[0],shadow=True)\n",
    "ax[0].set_ylabel('')\n",
    "sns.countplot('CancellationCode', order = CancFlights['CancellationCode'].value_counts().index, data=CancFlights, ax=ax[1])\n",
    "plt.show()\n",
    "\n"
   ]
  },
  {
   "cell_type": "markdown",
   "metadata": {},
   "source": [
    "# Como se dividiram os cancelamentos ao longo do ano? Porque será assim?\n",
    "Sao maiores no inverdo, presumidamente devido ao tempo."
   ]
  },
  {
   "cell_type": "code",
   "execution_count": null,
   "metadata": {},
   "outputs": [],
   "source": [
    "\n",
    "\n",
    "CancFlights[['DepDate','CancellationCode']].groupby(['DepDate']).count().plot()\n",
    "\n",
    "plt.show()"
   ]
  },
  {
   "cell_type": "markdown",
   "metadata": {},
   "source": [
    "# Como se distribuiram os atrasos nas chegadas em tempo de atraso?\n",
    "maior quantidade de pessoas e voos maior atrasos"
   ]
  },
  {
   "cell_type": "code",
   "execution_count": null,
   "metadata": {},
   "outputs": [],
   "source": [
    "plt.figure(figsize=(10, 5))\n",
    "Delayedflights = flights[(flights.Status >= 1) &(flights.Status < 3)]\n",
    "#histogram\n",
    "sns.distplot(Delayedflights['ArrDelay'])\n",
    "plt.xlabel('Arrival Delay (mins)')\n",
    "plt.show()"
   ]
  },
  {
   "cell_type": "code",
   "execution_count": null,
   "metadata": {},
   "outputs": [],
   "source": [
    "#skewness and kurtosis\n",
    "print(\"Skewness: %f\" % Delayedflights['ArrDelay'].skew())\n",
    "print(\"Kurtosis: %f\" % Delayedflights['ArrDelay'].kurt())"
   ]
  },
  {
   "cell_type": "markdown",
   "metadata": {},
   "source": [
    "Skewness = assimetria:<br><br>\n",
    "Mede a assimetria das caudas da distribuição. Distribuições assimétricas que tem uma cauda mais \"pesada\" que a outra apresentam assimetria. Distribuições simétricas tem assimetria zero. Assim:<br><br>\n",
    "\n",
    "Se v>0, então a distribuição tem uma cauda direita (valores acima da média) mais pesada<br><br>\n",
    "Se v<0, então a distribuição tem uma cauda esquerda (valores abaixo da média) mais pesada<br><br>\n",
    "Se v=0, então a distribuição é aproximadamente simétrica (na terceira potência do desvio em relação à média).<br><br>\n",
    "\n",
    "Kurtosis=Curtose<br><br>\n",
    "A curtose é uma medida de forma que caracteriza o achatamento da curva da função de distribuição de probabilidade em relação à normal<br><br>\n",
    "\n",
    "Se o valor da curtose for = 0 (ou 3, pela segunda definição), então tem o mesmo achatamento que a distribuição normal. Chama-se a estas funções de mesocúrticas<br><br>\n",
    "\n",
    "Se o valor é > 0 (ou > 3), então a distribuição em questão é mais alta (afunilada) e concentrada que a distribuição normal. Diz-se que esta função probabilidade é leptocúrtica, ou que a distribuição tem caudas pesadas (o significado é que é relativamente fácil obter valores que não se aproximam da média a vários múltiplos do desvio padrão)<br><br>\n",
    "\n",
    "Se o valor é < 0 (ou < 3), então a função de distribuição é mais \"achatada\" que a distribuição normal. Chama-se-lhe platicúrtica\n"
   ]
  },
  {
   "cell_type": "markdown",
   "metadata": {},
   "source": [
    "# Em que alturas houve mais atrasos e maiores atrasos?\n",
    "Nos meses de janeiro, Agosto e Dezembro existe mais fluxo de pessoas logo existem mais atrasos e os atrasos sao maiores"
   ]
  },
  {
   "cell_type": "code",
   "execution_count": null,
   "metadata": {},
   "outputs": [],
   "source": [
    "f,ax=plt.subplots(1,2,figsize=(20,8))\n",
    "Delayedflights[['Month','ArrDelay']].groupby(['Month']).mean().plot(ax=ax[0])\n",
    "ax[0].set_title('Average delay by month')\n",
    "Delayedflights[['Month','ArrDelay']].groupby(['Month']).sum().plot(ax=ax[1])\n",
    "ax[1].set_title('Number of minutes delayed by month')\n",
    "plt.show()"
   ]
  },
  {
   "cell_type": "markdown",
   "metadata": {},
   "source": [
    "# O que aprendemos atraves do grafico que se obtem da computacao seguinte?\n",
    "Entre as 12 e as 13 horas bem como entre as 18 e as 20h e quando existe maiores atrasos"
   ]
  },
  {
   "cell_type": "code",
   "execution_count": null,
   "metadata": {},
   "outputs": [],
   "source": [
    "sns.jointplot(x='CRSDepTime',y='ArrDelay',data=Delayedflights,kind='reg', color='b',fit_reg = True)\n",
    "plt.show()"
   ]
  },
  {
   "cell_type": "markdown",
   "metadata": {},
   "source": [
    "# Olhando para a seguinte matriz de correlacao, quais as correlações mais importantes de atrasos e como explica isso?\n",
    "Arrive delay com o Carrier delay e com o lateaircraft delay e o NASDelay com o TaxiOut devido a questoes de seguranca podem demorar mais tempo em pista"
   ]
  },
  {
   "cell_type": "code",
   "execution_count": null,
   "metadata": {},
   "outputs": [],
   "source": [
    "# verificar a correlacao do status com os tipos de delay:\n",
    "delcorrmat = Delayedflights.corr()\n",
    "\n",
    "k = 10 #number of variables for heatmap\n",
    "f, ax = plt.subplots(figsize=(12, 9))\n",
    "cols = delcorrmat.nlargest(k, 'ArrDelay')['ArrDelay'].index\n",
    "cm = np.corrcoef(Delayedflights[cols].values.T)\n",
    "sns.set(font_scale=1.25)\n",
    "hm = sns.heatmap(cm, cbar=True, annot=True, square=True, fmt='.2f', annot_kws={'size': 15}, yticklabels=cols.values, xticklabels=cols.values)\n",
    "plt.show()"
   ]
  },
  {
   "cell_type": "markdown",
   "metadata": {},
   "source": [
    "# O que conclui da leitura do grafico seguinte relativamente a causas de atrasos?\n",
    "O LateAircraft Delay e O que causa mais delays, seguido de CarrierDelay,NASDelay e com menos relevancia o WeatherDelay e a securityDelay"
   ]
  },
  {
   "cell_type": "code",
   "execution_count": null,
   "metadata": {},
   "outputs": [],
   "source": [
    "df2 = Delayedflights.filter(['Month','CarrierDelay','WeatherDelay','NASDelay','SecurityDelay','LateAircraftDelay'], axis=1)\n",
    "df2 = df2.groupby('Month')['LateAircraftDelay','CarrierDelay','WeatherDelay','NASDelay','SecurityDelay'].sum().plot()\n",
    "df2.legend(loc='upper center', bbox_to_anchor=(0.5, 1.25), ncol=3, fancybox=True, shadow=True)\n",
    "plt.show()"
   ]
  },
  {
   "cell_type": "markdown",
   "metadata": {},
   "source": [
    "# O seguinte é so para conhecimento"
   ]
  },
  {
   "cell_type": "code",
   "execution_count": null,
   "metadata": {},
   "outputs": [],
   "source": [
    "#scatterplot\n",
    "sns.set()\n",
    "cols = ['ArrDelay', 'CarrierDelay', 'LateAircraftDelay', 'NASDelay', 'WeatherDelay']\n",
    "sns.pairplot(Delayedflights[cols], size = 2.5)\n",
    "plt.show()"
   ]
  },
  {
   "cell_type": "markdown",
   "metadata": {},
   "source": [
    "2.2.1 Late Aircraft Delay"
   ]
  },
  {
   "cell_type": "markdown",
   "metadata": {},
   "source": [
    "# Quais as tres companhias aéreas com mais atrasos? E o que nos diz o gráfico da direita? Quais as companhias que devem ser o foco da analise por terem mais atrasos em geral do que as restantes? Sera culpa da companhia, ou podera haver outros factores?\n",
    "\n",
    "    1.Mesa Airlines\n",
    "    2.Hawaiian Airlines\n",
    "    3.Atlhantic Southwest Airlines\n",
    "    \n",
    "   Grafico da direita da a distribuicao dos delays\n",
    "   \n",
    "   Podem haver outros fatores, mas parcialmente a culpa e da companhia."
   ]
  },
  {
   "cell_type": "code",
   "execution_count": null,
   "metadata": {},
   "outputs": [],
   "source": [
    "print(flights['UniqueCarrier'].value_counts())"
   ]
  },
  {
   "cell_type": "code",
   "execution_count": null,
   "metadata": {},
   "outputs": [],
   "source": [
    "f,ax=plt.subplots(1,2,figsize=(20,8))\n",
    "sns.barplot('UniqueCarrier','CarrierDelay', data=Delayedflights,ax=ax[0], order=['WN', 'AA', 'MQ', 'UA','OO','DL','XE','CO',\n",
    "                                                                                'US','EV', 'NW','FL','YV', 'B6','OH','9E',\n",
    "                                                                                 'AS','F9','HA','AQ'])\n",
    "ax[0].set_title('Average Delay by Carrier')\n",
    "sns.boxplot('UniqueCarrier','CarrierDelay', data=Delayedflights,ax=ax[1], order=['WN', 'AA', 'MQ', 'UA','OO','DL','XE','CO',\n",
    "                                                                                'US','EV', 'NW','FL','YV', 'B6','OH','9E',\n",
    "                                                                                 'AS','F9','HA','AQ'])\n",
    "ax[1].set_title('Delay Distribution by Carrier')\n",
    "plt.close(2)\n",
    "plt.show()\n",
    "\n",
    "print(['WN: Southwest Airlines', 'AA: American Airlines', 'MQ: American Eagle Airlines', 'UA: United Airlines',\n",
    "       'OO: Skywest Airlines','DL: Delta Airlines','XE: ExpressJet','CO: Continental Airlines','US: US Airways',\n",
    "       'EV: Atlantic Southeast Airlines', 'NW: Northwest Airlines','FL: AirTran Airways','YV: Mesa Airlines', \n",
    "       'B6: JetBlue Airways','OH: Comair','9E: Pinnacle Airlines','AS: Alaska Airlines','F9: Frontier Airlines',\n",
    "       'HA: Hawaiian Airlines','AQ: Aloha Airlines'])"
   ]
  },
  {
   "cell_type": "markdown",
   "metadata": {},
   "source": [
    "# Quais os 3 aeroportos com mais atrasos? E qual teve o maior atraso de todos?\n",
    "Boston, JFK, CLT. o Que teve maior foi denver."
   ]
  },
  {
   "cell_type": "code",
   "execution_count": null,
   "metadata": {},
   "outputs": [],
   "source": [
    "#Having more than 300 airports on the dataset, we are going to focus on the top20. \n",
    "Top20airports = Delayedflights[(Delayedflights.Origin == 'ORD') | (Delayedflights.Origin == 'ATL') |\n",
    "                               (Delayedflights.Origin == 'DFW') | (Delayedflights.Origin == 'DEN') |\n",
    "                               (Delayedflights.Origin == 'EWR') | (Delayedflights.Origin == 'LAX') | \n",
    "                               (Delayedflights.Origin == 'IAH') | (Delayedflights.Origin == 'PHX') |\n",
    "                               (Delayedflights.Origin == 'DTW') | (Delayedflights.Origin == 'SFO') | \n",
    "                               (Delayedflights.Origin == 'LAS') | (Delayedflights.Origin == 'DEN') |\n",
    "                               (Delayedflights.Origin == 'ORD') | (Delayedflights.Origin == 'JFK') | \n",
    "                               (Delayedflights.Origin == 'CLT') | (Delayedflights.Origin == 'LGA') |\n",
    "                               (Delayedflights.Origin == 'MCO') | (Delayedflights.Origin == 'MSP') | \n",
    "                               (Delayedflights.Origin == 'BOS') | (Delayedflights.Origin == 'PHL')]\n",
    "\n",
    "print(Top20airports['Origin'].value_counts())"
   ]
  },
  {
   "cell_type": "code",
   "execution_count": null,
   "metadata": {},
   "outputs": [],
   "source": [
    "f,ax=plt.subplots(1,2,figsize=(20,8))\n",
    "sns.barplot('Origin','NASDelay', data=Top20airports,ax=ax[0], order=['ORD', 'ATL', 'DFW', 'DEN','EWR','LAX','IAH','PHX','DTW',\n",
    "                                                                     'SFO', 'LAS','JFK','CLT', 'LGA','MCO','MSP','BOS','PHL'])\n",
    "ax[0].set_title('Average Delay by Origin Airport')\n",
    "sns.boxplot('Origin','NASDelay', data=Top20airports,ax=ax[1], order=['ORD', 'ATL', 'DFW', 'DEN','EWR','LAX','IAH','PHX','DTW',\n",
    "                                                                     'SFO', 'LAS','JFK','CLT', 'LGA','MCO','MSP','BOS','PHL'])\n",
    "ax[1].set_title('Delay Distribution by Origin Airport')\n",
    "plt.close(2)\n",
    "plt.show()\n",
    "\n",
    "print(['ORD: Chicago', 'ATL: Atlanta', 'DFW: Dallas Fortworth', 'DEN: Denver','EWR: Newark','LAX: Los Ángeles',\n",
    "       'IAH: Houston','PHX: Phoenix','DTW: Detroit','SFO: San Francisco','LAS: Las Vegas','JFK: New York','CLT: Charlotte',\n",
    "       'LGA: La Guardia (NY)','MCO: Orlando','MSP: Minneapolis','BOS Boston','PHL Philadelphia'])"
   ]
  },
  {
   "cell_type": "markdown",
   "metadata": {},
   "source": [
    "# CONCLUSOES, para curiosidade que pode ler depois : The situation today"
   ]
  },
  {
   "cell_type": "markdown",
   "metadata": {},
   "source": [
    "So far, we have seen causes for flight delay in 2008, but has the situation changed since then? 8 years later, in 2016, the ratio of domestic fligths in the US data offers a much brighter present. Numbers can be checked here.<br><br>\n",
    "Making a comparison between then and now, we can see how the numbers have improved (*):<br><br>\n",
    "On time: 35,2% in 2008 vs 81,42% in 2016.<br><br>\n",
    "Delayed: 64,4% in 2008 vs 17,17% in 2016.<br><br>\n",
    "Cancelled: 0,03% in 2008 vs 1,17% in 2016.<br><br>\n",
    "Diverted: 0,4% in 2008 vs 0,24% in 2016.<br><br>\n",
    "(*) After searching for the reason behind this significant improvement in the last 8 years, we have compared the data offered on the BTS website for 2008 and 2016 and our dataset. The BTS ratios are based on datasets containing the averages by air carrier and origin airport, and they don't compare individual flights. Their sample consider nearly 20.000 flights. Our dataset, in comparison, contains around 2 million individual flights.\n",
    "The BTS data for 2008 is 76,04% flights on time, 21,75% delayed, 1,96% cancelled and 0,25% diverted. Taking into account these ratios, in the period between 2008 and 2016, there has been a 7% increase in the number of flights on time, an average of 0.875% each year. However, there's still a lot of room for improvement"
   ]
  },
  {
   "cell_type": "markdown",
   "metadata": {},
   "source": [
    "4. A glimpse into the future\n",
    "While the dataset itself doesn't offer a solution to the delay issue, it's clear that delay reduction has many intertwined variables. A solution applicable to one type of delay will heavily affect the others, resulting in a compounded effect that will allow more efficient operations; benefiting passengers, airports, carriers and even the world as a whole.\n",
    "Here are some of the solutions to be seen on the near future:\n",
    "5.1 LateAircraft and NAS Delay\n",
    "Some experts, like Michael Baiada (retired pilot and President of ATH Group), argues that the solution to NAS Delay lies within the carriers. If carriers allowed aircrafts a higher speed and fuel consumption on planes that departed late, the effect wouldn't spread along the flight chain. This would decrease the NAS Delay itself and the Late Aircraft Delay, decreasing significatively the number of planes delayed.\n",
    "Find the full article here:\n",
    "5.2 Better information efficiency\n",
    "Amadeus, top GDS (Global Distribution Systems) and IT solutions provider to the travel industry identifies the approaches that Airlines, IT solutions and Big Data are taking in order to solve this issue. There's a paper on the issue in the following link."
   ]
  },
  {
   "cell_type": "code",
   "execution_count": null,
   "metadata": {},
   "outputs": [],
   "source": []
  }
 ],
 "metadata": {
  "kernelspec": {
   "display_name": "Python 3 (ipykernel)",
   "language": "python",
   "name": "python3"
  },
  "language_info": {
   "codemirror_mode": {
    "name": "ipython",
    "version": 3
   },
   "file_extension": ".py",
   "mimetype": "text/x-python",
   "name": "python",
   "nbconvert_exporter": "python",
   "pygments_lexer": "ipython3",
   "version": "3.10.4"
  },
  "toc": {
   "base_numbering": 1,
   "nav_menu": {},
   "number_sections": true,
   "sideBar": true,
   "skip_h1_title": false,
   "title_cell": "Table of Contents",
   "title_sidebar": "Contents",
   "toc_cell": false,
   "toc_position": {},
   "toc_section_display": true,
   "toc_window_display": false
  },
  "varInspector": {
   "cols": {
    "lenName": 16,
    "lenType": 16,
    "lenVar": 40
   },
   "kernels_config": {
    "python": {
     "delete_cmd_postfix": "",
     "delete_cmd_prefix": "del ",
     "library": "var_list.py",
     "varRefreshCmd": "print(var_dic_list())"
    },
    "r": {
     "delete_cmd_postfix": ") ",
     "delete_cmd_prefix": "rm(",
     "library": "var_list.r",
     "varRefreshCmd": "cat(var_dic_list()) "
    }
   },
   "types_to_exclude": [
    "module",
    "function",
    "builtin_function_or_method",
    "instance",
    "_Feature"
   ],
   "window_display": false
  }
 },
 "nbformat": 4,
 "nbformat_minor": 4
}
