{
 "cells": [
  {
   "cell_type": "markdown",
   "metadata": {},
   "source": [
    "# How do you merge two datasets based on some common attribuites in Pandas?"
   ]
  },
  {
   "cell_type": "code",
   "execution_count": null,
   "metadata": {},
   "outputs": [],
   "source": [
    "import pandas as pd"
   ]
  },
  {
   "cell_type": "raw",
   "metadata": {},
   "source": [
    "# The example will just create dataframes from lists, but you could instead read dataframes from csv files, and join whatever might be necessary"
   ]
  },
  {
   "cell_type": "markdown",
   "metadata": {},
   "source": [
    "# create the lists"
   ]
  },
  {
   "cell_type": "code",
   "execution_count": null,
   "metadata": {},
   "outputs": [],
   "source": [
    "# create 5 lists with the same size\n",
    "names = ['bob', 'bella', 'blue', 'suzy', 'gunter', 'joe', 'holly', 'coco', 'elliot']\n",
    "species = ['dog', 'cat', 'velociraptor', 'dog', 'penguin', 'squid', 'cat', 'cat', 'horse']\n",
    "age = [1, 6, 70, 8, 3, 1, 2, 13, 3]\n",
    "weight = [10, 5, 15, 7, 4, 1, 3, 2, 380]\n",
    "color = ['brown', 'black', 'blue', 'black', 'black', 'gray', 'white', 'orange', 'white']"
   ]
  },
  {
   "cell_type": "markdown",
   "metadata": {},
   "source": [
    "# What does this do?"
   ]
  },
  {
   "cell_type": "code",
   "execution_count": null,
   "metadata": {},
   "outputs": [],
   "source": [
    "df1 = pd.DataFrame( {'name': names[:3],\n",
    "                     'species': species[:3],\n",
    "                     'age': age[:3]})\n",
    "df2 = pd.DataFrame( {'name': names[3:6],\n",
    "                     'species': species[3:6],\n",
    "                     'age': age[3:6]})\n",
    "df3 = pd.DataFrame( {'name': names[6:],\n",
    "                     'species': species[6:],\n",
    "                     'age': age[6:]})\n",
    "print(df1, '\\n')\n",
    "print(df2, '\\n')\n",
    "print(df3)\n"
   ]
  },
  {
   "cell_type": "markdown",
   "metadata": {},
   "source": [
    "# Run next command, what did the concat do?"
   ]
  },
  {
   "cell_type": "code",
   "execution_count": null,
   "metadata": {},
   "outputs": [],
   "source": [
    "df_list = [df1, df2, df3]\n",
    "df = pd.concat(df_list)\n",
    "df"
   ]
  },
  {
   "cell_type": "markdown",
   "metadata": {},
   "source": [
    "# Now create the dataframes with a few differences in column names: specie instead of species in df1; age - years instead of age in df3"
   ]
  },
  {
   "cell_type": "code",
   "execution_count": null,
   "metadata": {},
   "outputs": [],
   "source": [
    "# test with mismatching and missing columns\n",
    "df1 = pd.DataFrame( {'name': names[:3],\n",
    "                     'specie': species[:3],\n",
    "                     'age': age[:3]})\n",
    "df2 = pd.DataFrame( {'name': names[3:6],\n",
    "                     'species': species[3:6],\n",
    "                     'age': age[3:6]})\n",
    "df3 = pd.DataFrame( {'name': names[6:],\n",
    "                     'age - years': age[6:]})\n",
    "print(df1, '\\n')\n",
    "print(df2, '\\n')\n",
    "print(df3)\n"
   ]
  },
  {
   "cell_type": "markdown",
   "metadata": {},
   "source": [
    "# Now concat again - what does it do differently? why?"
   ]
  },
  {
   "cell_type": "code",
   "execution_count": null,
   "metadata": {},
   "outputs": [],
   "source": [
    "df_list = [df1, df2, df3]\n",
    "df = pd.concat(df_list)\n",
    "df"
   ]
  },
  {
   "cell_type": "markdown",
   "metadata": {},
   "source": [
    "# Note that the index column (the first, numeric value column) kept the same values as in the individual dfs. Change that to have a new unique index (using ignore_index) "
   ]
  },
  {
   "cell_type": "code",
   "execution_count": null,
   "metadata": {},
   "outputs": [],
   "source": [
    "df1 = pd.DataFrame( {'name': names[:3],\n",
    "                     'species': species[:3],\n",
    "                     'age': age[:3]})\n",
    "df2 = pd.DataFrame( {'name': names[3:6],\n",
    "                     'species': species[3:6],\n",
    "                     'age': age[3:6]})\n",
    "df3 = pd.DataFrame( {'name': names[6:],\n",
    "                     'species': species[6:],\n",
    "                     'age': age[6:]})\n",
    "# since we didn't define the indexes when creating the dataframes we can ignore them when concatenating\n",
    "df_list = [df1, df2, df3]\n",
    "df = pd.concat(df_list, ignore_index=True)\n",
    "df"
   ]
  },
  {
   "cell_type": "code",
   "execution_count": null,
   "metadata": {},
   "outputs": [],
   "source": [
    "df4 = pd.DataFrame( {'weight': weight,\n",
    "                     'color': color\n",
    "                     })\n",
    "df4"
   ]
  },
  {
   "cell_type": "markdown",
   "metadata": {},
   "source": [
    "# Run next command, what did it do, how does this differ from the previous concats?"
   ]
  },
  {
   "cell_type": "code",
   "execution_count": null,
   "metadata": {},
   "outputs": [],
   "source": [
    "df = pd.concat([df, df4], axis=1)\n",
    "df"
   ]
  },
  {
   "cell_type": "markdown",
   "metadata": {},
   "source": [
    "# Problem with this approach: we are simply concatenating row to row. WHAT IF WE WANT TO CONCAT BASED ON a join attr?"
   ]
  },
  {
   "cell_type": "markdown",
   "metadata": {},
   "source": [
    "# Create a dataset df5 with name and score (new column with a score for each row) for later joining"
   ]
  },
  {
   "cell_type": "code",
   "execution_count": null,
   "metadata": {},
   "outputs": [],
   "source": [
    "df5 = pd.DataFrame( {'name': names,\n",
    "                     'score': [9,10,10,8,6,9,3,4,10]})\n",
    "# make column index\n",
    "df5.set_index('name', inplace=True)\n",
    "\n",
    "df5"
   ]
  },
  {
   "cell_type": "markdown",
   "metadata": {},
   "source": [
    "# Run next command, what did it do, what is the SQL equivalent query for this specific one?"
   ]
  },
  {
   "cell_type": "code",
   "execution_count": null,
   "metadata": {},
   "outputs": [],
   "source": [
    "df.set_index('name', inplace=True)\n",
    "\n",
    "df_list = [df, df5]\n",
    "df6 = pd.concat(df_list, axis=1, join='inner')\n",
    "df6"
   ]
  },
  {
   "cell_type": "markdown",
   "metadata": {},
   "source": [
    "# Use append to append df2 to df1"
   ]
  },
  {
   "cell_type": "code",
   "execution_count": null,
   "metadata": {},
   "outputs": [],
   "source": [
    "print(df1)\n",
    "print(df2)"
   ]
  },
  {
   "cell_type": "code",
   "execution_count": null,
   "metadata": {},
   "outputs": [],
   "source": [
    "df7=df1.append(df2)\n",
    "print(df7)"
   ]
  },
  {
   "cell_type": "markdown",
   "metadata": {},
   "source": [
    "# Append a row"
   ]
  },
  {
   "cell_type": "code",
   "execution_count": null,
   "metadata": {},
   "outputs": [],
   "source": [
    "df8=df7.append(pd.Series(['oliver', 'monkey', 13], index=['name', 'species', 'age']), ignore_index=True) \n",
    "df8"
   ]
  },
  {
   "cell_type": "markdown",
   "metadata": {},
   "source": [
    "# Now let's try to use merge. fIRST CREATE A DATAFRAME"
   ]
  },
  {
   "cell_type": "code",
   "execution_count": null,
   "metadata": {},
   "outputs": [],
   "source": [
    "df10 = pd.DataFrame( {'name': names[1:],\n",
    "                     'score': [10,10,8,6,9,3,4,10]})\n",
    "print(df10)\n",
    "\n",
    "print(df)"
   ]
  },
  {
   "cell_type": "markdown",
   "metadata": {},
   "source": [
    "# Run next command, what did it do, what is the equivalent SQL?"
   ]
  },
  {
   "cell_type": "code",
   "execution_count": null,
   "metadata": {},
   "outputs": [],
   "source": [
    "merged_df = pd.merge(df, df10, on='name')\n",
    "merged_df"
   ]
  },
  {
   "cell_type": "markdown",
   "metadata": {},
   "source": [
    "# Now create a smaller dataframe"
   ]
  },
  {
   "cell_type": "code",
   "execution_count": null,
   "metadata": {},
   "outputs": [],
   "source": [
    "df11 = pd.DataFrame( {'name': names[3:],\n",
    "                     'score': [8,6,9,3,4,10]})\n",
    "print(df11)\n",
    "\n",
    "print(df)"
   ]
  },
  {
   "cell_type": "markdown",
   "metadata": {},
   "source": [
    "# Run next command, what did it do DIFFERENT FROM THE PREVIOUS? what changed and why?"
   ]
  },
  {
   "cell_type": "code",
   "execution_count": null,
   "metadata": {},
   "outputs": [],
   "source": [
    "merged_df2 = pd.merge(df11, df, how='right', on='name')\n",
    "merged_df2"
   ]
  },
  {
   "cell_type": "markdown",
   "metadata": {},
   "source": [
    "# EXTRA - You can also specify the index to be name, then use it in joins"
   ]
  },
  {
   "cell_type": "code",
   "execution_count": null,
   "metadata": {},
   "outputs": [],
   "source": [
    "#df.set_index('name', inplace=True)\n",
    "df11.set_index('name', inplace=True)\n",
    "print(df)\n",
    "print(df11)"
   ]
  },
  {
   "cell_type": "code",
   "execution_count": null,
   "metadata": {},
   "outputs": [],
   "source": [
    "print(pd.merge(df, df11, on='name'))"
   ]
  },
  {
   "cell_type": "code",
   "execution_count": null,
   "metadata": {},
   "outputs": [],
   "source": [
    "pd.merge(df, df11, how='inner', left_index=True, right_index=True)"
   ]
  },
  {
   "cell_type": "code",
   "execution_count": null,
   "metadata": {},
   "outputs": [],
   "source": [
    "pd.merge(df, df11, how='outer', left_index=True, right_index=True)"
   ]
  },
  {
   "cell_type": "code",
   "execution_count": null,
   "metadata": {},
   "outputs": [],
   "source": [
    "Joining Datasets with Python’s Pandas\n",
    "How to concatenate, append, and merge Datasets with Pandas\n",
    "\n",
    "\n",
    "Referência do tutorial:\n",
    "https://towardsdatascience.com/joining-datasets-with-pythons-pandas-ed832f01450c"
   ]
  }
 ],
 "metadata": {
  "kernelspec": {
   "display_name": "Python 3",
   "language": "python",
   "name": "python3"
  },
  "language_info": {
   "codemirror_mode": {
    "name": "ipython",
    "version": 3
   },
   "file_extension": ".py",
   "mimetype": "text/x-python",
   "name": "python",
   "nbconvert_exporter": "python",
   "pygments_lexer": "ipython3",
   "version": "3.8.5"
  },
  "toc": {
   "base_numbering": 1,
   "nav_menu": {},
   "number_sections": true,
   "sideBar": true,
   "skip_h1_title": false,
   "title_cell": "Table of Contents",
   "title_sidebar": "Contents",
   "toc_cell": false,
   "toc_position": {},
   "toc_section_display": true,
   "toc_window_display": false
  },
  "varInspector": {
   "cols": {
    "lenName": 16,
    "lenType": 16,
    "lenVar": 40
   },
   "kernels_config": {
    "python": {
     "delete_cmd_postfix": "",
     "delete_cmd_prefix": "del ",
     "library": "var_list.py",
     "varRefreshCmd": "print(var_dic_list())"
    },
    "r": {
     "delete_cmd_postfix": ") ",
     "delete_cmd_prefix": "rm(",
     "library": "var_list.r",
     "varRefreshCmd": "cat(var_dic_list()) "
    }
   },
   "types_to_exclude": [
    "module",
    "function",
    "builtin_function_or_method",
    "instance",
    "_Feature"
   ],
   "window_display": false
  }
 },
 "nbformat": 4,
 "nbformat_minor": 4
}
