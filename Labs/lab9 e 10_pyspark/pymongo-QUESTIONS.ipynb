{
 "cells": [
  {
   "cell_type": "raw",
   "metadata": {},
   "source": [
    "\n",
    "https://naiveskill.com/mongodb-with-python/\n",
    "\n",
    ".whichCollection.find()\n",
    "• db.coll.find({ attr: { $operator: value} })\n",
    "• db.coll.find({ attr: { $operator: value} [, { attr: { $operator: value}] })\n",
    "• db.coll.update({attr:value},{$set:{attr:value}})\n",
    "• db.coll.updateMany( { attr: {$op: val} } , { $inc: { attr: val} }\n",
    "• db.coll.updateMany( { attr: {$op: val} } , { $inc: { attr: val} }\n",
    "• aggreg=db.coll.aggregate( [\n",
    "{ '$group': { '_id': attr, 'total': { ’$op': ”$attr\" } } }, { '$sort': { 'total': -1 } } ])\n",
    "\n",
    "SOME OPERATORS:\n",
    "Name Description\n",
    "$eq Matches values that are equal to a specified value.\n",
    "$gt Matches values that are greater than a specified value. $gte Matches values that are greater than or equal to a specified value.\n",
    "$in Matches any of the values specified in an array.\n",
    "$lt Matches values that are less than a specified value. $lte Matches values that are less than or equal to a specified value.\n",
    "$ne Matches all values that are not equal to a specified value.\n",
    "$nin Matches none of the values specified in an array.\n",
    "\n",
    "Logical\n",
    "Name Description\n",
    "$and Joins query clauses with a logical AND returns all documents that match the conditions of both clauses.\n",
    "$not Inverts the effect of a query expression and returns documents that do not match the query expression.\n",
    "$nor Joins query clauses with a logical NOR returns all documents that fail to match both clauses.\n",
    "$or Joins query clauses with a logical OR returns all documents that match the conditions of either clause.\n"
   ]
  },
  {
   "cell_type": "markdown",
   "metadata": {},
   "source": [
    "# Install if needed"
   ]
  },
  {
   "cell_type": "markdown",
   "metadata": {},
   "source": [
    "pip install pymongo"
   ]
  },
  {
   "cell_type": "code",
   "execution_count": 1,
   "metadata": {},
   "outputs": [],
   "source": [
    "import pymongo"
   ]
  },
  {
   "cell_type": "markdown",
   "metadata": {},
   "source": [
    "# launch the daemon"
   ]
  },
  {
   "cell_type": "markdown",
   "metadata": {},
   "source": [
    "inside the bin dir of mongo\n",
    "mkdir aulaMONGODB\n",
    "Macs-MBP-4:bin pedro$ mongod --dbpath aulaMONGODB"
   ]
  },
  {
   "cell_type": "markdown",
   "metadata": {},
   "source": [
    "# Connect the client"
   ]
  },
  {
   "cell_type": "code",
   "execution_count": 2,
   "metadata": {},
   "outputs": [
    {
     "data": {
      "text/plain": [
       "['admin', 'config', 'local']"
      ]
     },
     "execution_count": 2,
     "metadata": {},
     "output_type": "execute_result"
    }
   ],
   "source": [
    "client = pymongo.MongoClient(\"mongodb://localhost:27017/\")\n",
    "client.list_database_names()"
   ]
  },
  {
   "cell_type": "markdown",
   "metadata": {},
   "source": [
    "# Create and use a simple DB"
   ]
  },
  {
   "cell_type": "markdown",
   "metadata": {},
   "source": [
    "## create a DB with patients health data"
   ]
  },
  {
   "cell_type": "code",
   "execution_count": 3,
   "metadata": {},
   "outputs": [],
   "source": [
    "db = client[\"med_data\"]"
   ]
  },
  {
   "cell_type": "markdown",
   "metadata": {},
   "source": [
    "## Add a patients data collection (like a table)"
   ]
  },
  {
   "cell_type": "code",
   "execution_count": 4,
   "metadata": {},
   "outputs": [],
   "source": [
    "patient_data = db[\"patient_data\"]"
   ]
  },
  {
   "cell_type": "markdown",
   "metadata": {},
   "source": [
    "## Insert data"
   ]
  },
  {
   "cell_type": "raw",
   "metadata": {},
   "source": [
    "name, age, biological sex and heart rate. \n",
    "\n",
    "blood pressure (systolic and diastolic pressure), millimetres of mercury (mmHg), for example 156/82."
   ]
  },
  {
   "cell_type": "code",
   "execution_count": 5,
   "metadata": {},
   "outputs": [],
   "source": [
    "patient_record = {\n",
    "   \"Name\": \"Maureen Skinner\",\n",
    "   \"Age\": 87,\n",
    "   \"Sex\": \"F\",\n",
    "   \"Blood pressure\": [{\"sys\": 156}, {\"dia\": 82}],\n",
    "   \"Heart rate\": 82\n",
    "}"
   ]
  },
  {
   "cell_type": "raw",
   "metadata": {},
   "source": [
    "This is called a document (equivalent to a row in RDBMS). You can add multiple documents using commas"
   ]
  },
  {
   "cell_type": "markdown",
   "metadata": {},
   "source": [
    "## Now insert and query it\n",
    "hints: \n",
    "use insert_one TO INSERT\n",
    "\n",
    "TO QUERY USE for item in ?.find():\n",
    "        print(item)"
   ]
  },
  {
   "cell_type": "code",
   "execution_count": 6,
   "metadata": {},
   "outputs": [
    {
     "data": {
      "text/plain": [
       "<pymongo.results.InsertOneResult at 0x1eb96e28e80>"
      ]
     },
     "execution_count": 6,
     "metadata": {},
     "output_type": "execute_result"
    }
   ],
   "source": [
    "#ADD INSERT CODE HERE\n",
    "patient_data.insert_one(patient_record)"
   ]
  },
  {
   "cell_type": "code",
   "execution_count": 7,
   "metadata": {},
   "outputs": [
    {
     "name": "stdout",
     "output_type": "stream",
     "text": [
      "{'_id': ObjectId('6274481ed0e69181b355e147'), 'Name': 'Maureen Skinner', 'Age': 87, 'Sex': 'F', 'Blood pressure': [{'sys': 156}, {'dia': 82}], 'Heart rate': 82}\n"
     ]
    }
   ],
   "source": [
    "#ADD QUERY CODE HERE\n",
    "for item in patient_data.find():\n",
    "    print(item)"
   ]
  },
  {
   "cell_type": "markdown",
   "metadata": {},
   "source": [
    "## Pretty print it..."
   ]
  },
  {
   "cell_type": "code",
   "execution_count": 8,
   "metadata": {},
   "outputs": [
    {
     "name": "stdout",
     "output_type": "stream",
     "text": [
      "{'Age': 87,\n",
      " 'Blood pressure': [{'sys': 156}, {'dia': 82}],\n",
      " 'Heart rate': 82,\n",
      " 'Name': 'Maureen Skinner',\n",
      " 'Sex': 'F',\n",
      " '_id': ObjectId('6274481ed0e69181b355e147')}\n"
     ]
    }
   ],
   "source": [
    "from pprint import pprint\n",
    "\n",
    "for item in patient_data.find():\n",
    "    pprint(item)"
   ]
  },
  {
   "cell_type": "raw",
   "metadata": {},
   "source": [
    "ObjectId to uniquely identify each document. This is a 12-byte hexadecimal string consisting of a timestamp, randomly generated value and incrementing counter. "
   ]
  },
  {
   "cell_type": "markdown",
   "metadata": {},
   "source": [
    "## Add multiple documents to the collection\n",
    "hint: use insert_many"
   ]
  },
  {
   "cell_type": "code",
   "execution_count": 9,
   "metadata": {},
   "outputs": [],
   "source": [
    "patient_records = [\n",
    " {\n",
    "   \"Name\": \"Adam Blythe\",\n",
    "   \"Age\": 55,\n",
    "   \"Sex\": \"M\",\n",
    "   \"Blood pressure\": [{\"sys\": 132}, {\"dia\": 73}],\n",
    "   \"Heart rate\": 73\n",
    " },\n",
    " {\n",
    "   \"Name\": \"Darren Sanders\",\n",
    "   \"Age\": 34,\n",
    "   \"Sex\": \"M\",\n",
    "   \"Blood pressure\": [{\"sys\": 120}, {\"dia\": 70}],\n",
    "   \"Heart rate\": 67\n",
    " },\n",
    " {\n",
    "   \"Name\": \"Sally-Ann Joyce\",\n",
    "   \"Age\": 19,\n",
    "   \"Sex\": \"F\",\n",
    "   \"Blood pressure\": [{\"sys\": 121}, {\"dia\": 72}],\n",
    "   \"Heart rate\": 67\n",
    " }\n",
    "]\n"
   ]
  },
  {
   "cell_type": "code",
   "execution_count": null,
   "metadata": {},
   "outputs": [
    {
     "ename": "BulkWriteError",
     "evalue": "batch op errors occurred, full error: {'writeErrors': [{'index': 0, 'code': 11000, 'keyPattern': {'_id': 1}, 'keyValue': {'_id': ObjectId('6274481fd0e69181b355e14e')}, 'errmsg': \"E11000 duplicate key error collection: med_data.patient_data index: _id_ dup key: { _id: ObjectId('6274481fd0e69181b355e14e') }\", 'op': {'Hospital number': '9956734', 'Name': 'Adam Blythe', 'Age': 55, 'Sex': 'M', 'Prescribed medications': [DBRef('medication_data', '?'), DBRef('medication_data', '?')], '_id': ObjectId('6274481fd0e69181b355e14e')}}], 'writeConcernErrors': [], 'nInserted': 0, 'nUpserted': 0, 'nMatched': 0, 'nModified': 0, 'nRemoved': 0, 'upserted': []}",
     "output_type": "error",
     "traceback": [
      "\u001b[1;31m---------------------------------------------------------------------------\u001b[0m",
      "\u001b[1;31mBulkWriteError\u001b[0m                            Traceback (most recent call last)",
      "Input \u001b[1;32mIn [30]\u001b[0m, in \u001b[0;36m<cell line: 1>\u001b[1;34m()\u001b[0m\n\u001b[1;32m----> 1\u001b[0m \u001b[43mpatient_data\u001b[49m\u001b[38;5;241;43m.\u001b[39;49m\u001b[43minsert_many\u001b[49m\u001b[43m(\u001b[49m\u001b[43mpatient_records\u001b[49m\u001b[43m)\u001b[49m\n",
      "File \u001b[1;32m~\\AppData\\Local\\Packages\\PythonSoftwareFoundation.Python.3.10_qbz5n2kfra8p0\\LocalCache\\local-packages\\Python310\\site-packages\\pymongo\\collection.py:691\u001b[0m, in \u001b[0;36mCollection.insert_many\u001b[1;34m(self, documents, ordered, bypass_document_validation, session, comment)\u001b[0m\n\u001b[0;32m    689\u001b[0m blk \u001b[38;5;241m=\u001b[39m _Bulk(\u001b[38;5;28mself\u001b[39m, ordered, bypass_document_validation, comment\u001b[38;5;241m=\u001b[39mcomment)\n\u001b[0;32m    690\u001b[0m blk\u001b[38;5;241m.\u001b[39mops \u001b[38;5;241m=\u001b[39m [doc \u001b[38;5;28;01mfor\u001b[39;00m doc \u001b[38;5;129;01min\u001b[39;00m gen()]\n\u001b[1;32m--> 691\u001b[0m \u001b[43mblk\u001b[49m\u001b[38;5;241;43m.\u001b[39;49m\u001b[43mexecute\u001b[49m\u001b[43m(\u001b[49m\u001b[43mwrite_concern\u001b[49m\u001b[43m,\u001b[49m\u001b[43m \u001b[49m\u001b[43msession\u001b[49m\u001b[38;5;241;43m=\u001b[39;49m\u001b[43msession\u001b[49m\u001b[43m)\u001b[49m\n\u001b[0;32m    692\u001b[0m \u001b[38;5;28;01mreturn\u001b[39;00m InsertManyResult(inserted_ids, write_concern\u001b[38;5;241m.\u001b[39macknowledged)\n",
      "File \u001b[1;32m~\\AppData\\Local\\Packages\\PythonSoftwareFoundation.Python.3.10_qbz5n2kfra8p0\\LocalCache\\local-packages\\Python310\\site-packages\\pymongo\\bulk.py:512\u001b[0m, in \u001b[0;36m_Bulk.execute\u001b[1;34m(self, write_concern, session)\u001b[0m\n\u001b[0;32m    510\u001b[0m         \u001b[38;5;28mself\u001b[39m\u001b[38;5;241m.\u001b[39mexecute_no_results(sock_info, generator, write_concern)\n\u001b[0;32m    511\u001b[0m \u001b[38;5;28;01melse\u001b[39;00m:\n\u001b[1;32m--> 512\u001b[0m     \u001b[38;5;28;01mreturn\u001b[39;00m \u001b[38;5;28;43mself\u001b[39;49m\u001b[38;5;241;43m.\u001b[39;49m\u001b[43mexecute_command\u001b[49m\u001b[43m(\u001b[49m\u001b[43mgenerator\u001b[49m\u001b[43m,\u001b[49m\u001b[43m \u001b[49m\u001b[43mwrite_concern\u001b[49m\u001b[43m,\u001b[49m\u001b[43m \u001b[49m\u001b[43msession\u001b[49m\u001b[43m)\u001b[49m\n",
      "File \u001b[1;32m~\\AppData\\Local\\Packages\\PythonSoftwareFoundation.Python.3.10_qbz5n2kfra8p0\\LocalCache\\local-packages\\Python310\\site-packages\\pymongo\\bulk.py:393\u001b[0m, in \u001b[0;36m_Bulk.execute_command\u001b[1;34m(self, generator, write_concern, session)\u001b[0m\n\u001b[0;32m    390\u001b[0m     client\u001b[38;5;241m.\u001b[39m_retry_with_session(\u001b[38;5;28mself\u001b[39m\u001b[38;5;241m.\u001b[39mis_retryable, retryable_bulk, s, \u001b[38;5;28mself\u001b[39m)\n\u001b[0;32m    392\u001b[0m \u001b[38;5;28;01mif\u001b[39;00m full_result[\u001b[38;5;124m\"\u001b[39m\u001b[38;5;124mwriteErrors\u001b[39m\u001b[38;5;124m\"\u001b[39m] \u001b[38;5;129;01mor\u001b[39;00m full_result[\u001b[38;5;124m\"\u001b[39m\u001b[38;5;124mwriteConcernErrors\u001b[39m\u001b[38;5;124m\"\u001b[39m]:\n\u001b[1;32m--> 393\u001b[0m     \u001b[43m_raise_bulk_write_error\u001b[49m\u001b[43m(\u001b[49m\u001b[43mfull_result\u001b[49m\u001b[43m)\u001b[49m\n\u001b[0;32m    394\u001b[0m \u001b[38;5;28;01mreturn\u001b[39;00m full_result\n",
      "File \u001b[1;32m~\\AppData\\Local\\Packages\\PythonSoftwareFoundation.Python.3.10_qbz5n2kfra8p0\\LocalCache\\local-packages\\Python310\\site-packages\\pymongo\\bulk.py:136\u001b[0m, in \u001b[0;36m_raise_bulk_write_error\u001b[1;34m(full_result)\u001b[0m\n\u001b[0;32m    134\u001b[0m \u001b[38;5;28;01mif\u001b[39;00m full_result[\u001b[38;5;124m\"\u001b[39m\u001b[38;5;124mwriteErrors\u001b[39m\u001b[38;5;124m\"\u001b[39m]:\n\u001b[0;32m    135\u001b[0m     full_result[\u001b[38;5;124m\"\u001b[39m\u001b[38;5;124mwriteErrors\u001b[39m\u001b[38;5;124m\"\u001b[39m]\u001b[38;5;241m.\u001b[39msort(key\u001b[38;5;241m=\u001b[39m\u001b[38;5;28;01mlambda\u001b[39;00m error: error[\u001b[38;5;124m\"\u001b[39m\u001b[38;5;124mindex\u001b[39m\u001b[38;5;124m\"\u001b[39m])\n\u001b[1;32m--> 136\u001b[0m \u001b[38;5;28;01mraise\u001b[39;00m BulkWriteError(full_result)\n",
      "\u001b[1;31mBulkWriteError\u001b[0m: batch op errors occurred, full error: {'writeErrors': [{'index': 0, 'code': 11000, 'keyPattern': {'_id': 1}, 'keyValue': {'_id': ObjectId('6274481fd0e69181b355e14e')}, 'errmsg': \"E11000 duplicate key error collection: med_data.patient_data index: _id_ dup key: { _id: ObjectId('6274481fd0e69181b355e14e') }\", 'op': {'Hospital number': '9956734', 'Name': 'Adam Blythe', 'Age': 55, 'Sex': 'M', 'Prescribed medications': [DBRef('medication_data', '?'), DBRef('medication_data', '?')], '_id': ObjectId('6274481fd0e69181b355e14e')}}], 'writeConcernErrors': [], 'nInserted': 0, 'nUpserted': 0, 'nMatched': 0, 'nModified': 0, 'nRemoved': 0, 'upserted': []}"
     ]
    }
   ],
   "source": [
    "patient_data.insert_many(patient_records)"
   ]
  },
  {
   "cell_type": "code",
   "execution_count": 10,
   "metadata": {},
   "outputs": [
    {
     "name": "stdout",
     "output_type": "stream",
     "text": [
      "{'Age': 87,\n",
      " 'Blood pressure': [{'sys': 156}, {'dia': 82}],\n",
      " 'Heart rate': 82,\n",
      " 'Name': 'Maureen Skinner',\n",
      " 'Sex': 'F',\n",
      " '_id': ObjectId('6274481ed0e69181b355e147')}\n",
      "{'Age': 55,\n",
      " 'Blood pressure': [{'sys': 132}, {'dia': 73}],\n",
      " 'Heart rate': 73,\n",
      " 'Name': 'Adam Blythe',\n",
      " 'Sex': 'M',\n",
      " '_id': ObjectId('6274481ed0e69181b355e148')}\n",
      "{'Age': 34,\n",
      " 'Blood pressure': [{'sys': 120}, {'dia': 70}],\n",
      " 'Heart rate': 67,\n",
      " 'Name': 'Darren Sanders',\n",
      " 'Sex': 'M',\n",
      " '_id': ObjectId('6274481ed0e69181b355e149')}\n",
      "{'Age': 19,\n",
      " 'Blood pressure': [{'sys': 121}, {'dia': 72}],\n",
      " 'Heart rate': 67,\n",
      " 'Name': 'Sally-Ann Joyce',\n",
      " 'Sex': 'F',\n",
      " '_id': ObjectId('6274481ed0e69181b355e14a')}\n"
     ]
    }
   ],
   "source": [
    "\n",
    "for item in patient_data.find():\n",
    "    pprint(item)"
   ]
  },
  {
   "cell_type": "markdown",
   "metadata": {},
   "source": [
    "## UPDATE: Darren Sanders heart rate was supposed to be 88\n",
    "hints: use update_one\n",
    "   to choose Darren: {\"Name\": \"Darren Sanders\"}\n",
    "   to change the heart rate: {\"$set\":{\"Heart rate\": 88}}"
   ]
  },
  {
   "cell_type": "code",
   "execution_count": 11,
   "metadata": {},
   "outputs": [
    {
     "data": {
      "text/plain": [
       "<pymongo.results.UpdateResult at 0x1eb96e2a980>"
      ]
     },
     "execution_count": 11,
     "metadata": {},
     "output_type": "execute_result"
    }
   ],
   "source": [
    "#ADD QUERY CODE HERE\n",
    "patient_data.update_one({'Name': 'Darren Sanders'}, {\"$set\":{\"Heart rate\": 88}})"
   ]
  },
  {
   "cell_type": "markdown",
   "metadata": {},
   "source": [
    "# Linking (similar to foreign keys in RDBMS)"
   ]
  },
  {
   "cell_type": "markdown",
   "metadata": {},
   "source": [
    "## we want to store some other medical test results for a patient. \n",
    "This could include some blood test results and an ECG/EKG image for \n",
    "some investigations for a heart attack and some blood tests, \n",
    "including:\n",
    "    \n",
    "Creatine Kinase (CK)\n",
    "Troponin I (TROP)\n",
    "Aspartate aminotransferase (AST)"
   ]
  },
  {
   "cell_type": "raw",
   "metadata": {},
   "source": [
    "patient_record = {\n",
    "  \"Hospital number\": \"3432543\",\n",
    "  \"Name\": \"Karen Baker\",\n",
    "  \"Age\": 45,\n",
    "  \"Sex\": \"F\",\n",
    "  \"Blood pressure\": [{\"sys\": 126}, {\"dia\": 72}],\n",
    "  \"Heart rate\": 78,\n",
    "  \"Test results\" : []\n",
    "}"
   ]
  },
  {
   "cell_type": "raw",
   "metadata": {},
   "source": [
    "The test results top add are:\n",
    "       \"ECG\": \"\\scans\\ECGs\\ecg00023.png\"\n",
    "       \"BIOCHEM\": [{\"AST\": 37}, {\"CK\": 180}, {\"TROPT\": 0.03}]     "
   ]
  },
  {
   "cell_type": "markdown",
   "metadata": {},
   "source": [
    "## Add the patient document with those values, THEN query to see those values\n",
    "hints: use insert_one\n",
    "        use find"
   ]
  },
  {
   "cell_type": "code",
   "execution_count": 12,
   "metadata": {},
   "outputs": [],
   "source": [
    "patient_record = {\n",
    "  \"Hospital number\": \"3432543\",\n",
    "  \"Name\": \"Karen Baker\",\n",
    "  \"Age\": 45,\n",
    "  \"Sex\": \"F\",\n",
    "  \"Blood pressure\": [{\"sys\": 126}, {\"dia\": 72}],\n",
    "  \"Heart rate\": 78,\n",
    "  \"Test results\" : [\n",
    "   {\n",
    "     \"ECG\": \"\\scans\\ECGs\\ecg00023.png\"\n",
    "   },\n",
    "   {\n",
    "     \"BIOCHEM\": [{\"AST\": 37}, {\"CK\": 180}, {\"TROPT\": 0.03}]\n",
    "   }\n",
    "  ]\n",
    "}"
   ]
  },
  {
   "cell_type": "code",
   "execution_count": 13,
   "metadata": {},
   "outputs": [
    {
     "data": {
      "text/plain": [
       "<pymongo.results.InsertOneResult at 0x1eb96e28d90>"
      ]
     },
     "execution_count": 13,
     "metadata": {},
     "output_type": "execute_result"
    }
   ],
   "source": [
    "#ADD insert QUERY CODE HERE\n",
    "patient_data.insert_one(patient_record)"
   ]
  },
  {
   "cell_type": "code",
   "execution_count": 14,
   "metadata": {},
   "outputs": [
    {
     "name": "stdout",
     "output_type": "stream",
     "text": [
      "{'Age': 87,\n",
      " 'Blood pressure': [{'sys': 156}, {'dia': 82}],\n",
      " 'Heart rate': 82,\n",
      " 'Name': 'Maureen Skinner',\n",
      " 'Sex': 'F',\n",
      " '_id': ObjectId('6274481ed0e69181b355e147')}\n",
      "{'Age': 55,\n",
      " 'Blood pressure': [{'sys': 132}, {'dia': 73}],\n",
      " 'Heart rate': 73,\n",
      " 'Name': 'Adam Blythe',\n",
      " 'Sex': 'M',\n",
      " '_id': ObjectId('6274481ed0e69181b355e148')}\n",
      "{'Age': 34,\n",
      " 'Blood pressure': [{'sys': 120}, {'dia': 70}],\n",
      " 'Heart rate': 88,\n",
      " 'Name': 'Darren Sanders',\n",
      " 'Sex': 'M',\n",
      " '_id': ObjectId('6274481ed0e69181b355e149')}\n",
      "{'Age': 19,\n",
      " 'Blood pressure': [{'sys': 121}, {'dia': 72}],\n",
      " 'Heart rate': 67,\n",
      " 'Name': 'Sally-Ann Joyce',\n",
      " 'Sex': 'F',\n",
      " '_id': ObjectId('6274481ed0e69181b355e14a')}\n",
      "{'Age': 45,\n",
      " 'Blood pressure': [{'sys': 126}, {'dia': 72}],\n",
      " 'Heart rate': 78,\n",
      " 'Hospital number': '3432543',\n",
      " 'Name': 'Karen Baker',\n",
      " 'Sex': 'F',\n",
      " 'Test results': [{'ECG': '\\\\scans\\\\ECGs\\\\ecg00023.png'},\n",
      "                  {'BIOCHEM': [{'AST': 37}, {'CK': 180}, {'TROPT': 0.03}]}],\n",
      " '_id': ObjectId('6274481fd0e69181b355e14b')}\n"
     ]
    }
   ],
   "source": [
    "#ADD find QUERY CODE HERE\n",
    "for item in patient_data.find():\n",
    "    pprint(item)"
   ]
  },
  {
   "cell_type": "markdown",
   "metadata": {},
   "source": [
    "## Now we want to link to another collection representing medication data - first insert the data\n",
    "hint: use insert_many"
   ]
  },
  {
   "cell_type": "code",
   "execution_count": 15,
   "metadata": {},
   "outputs": [],
   "source": [
    "medication_data = db[\"medication_data\"]"
   ]
  },
  {
   "cell_type": "code",
   "execution_count": 16,
   "metadata": {},
   "outputs": [],
   "source": [
    "medication_record = [\n",
    " {\n",
    "   \"Drug name\": \"Omeprazole\",\n",
    "   \"Type\": \"Proton pump inhibitor\",\n",
    "   \"Oral dose\": \"20mg once daily\",\n",
    "   \"IV dose\": \"40mg\",\n",
    "   \"Net price (GBP)\": 4.29\n",
    " },\n",
    " {\n",
    "   \"Drug name\": \"Amitriptyline\",\n",
    "   \"Type\": \"Tricyclic antidepressant\",\n",
    "   \"Oral dose\": \"30–75mg daily\",\n",
    "   \"IV dose\": \"N/A\",\n",
    "   \"Net price (GBP)\": 1.32\n",
    " }\n",
    "]\n"
   ]
  },
  {
   "cell_type": "code",
   "execution_count": 17,
   "metadata": {},
   "outputs": [
    {
     "data": {
      "text/plain": [
       "<pymongo.results.InsertManyResult at 0x1eb96e2a230>"
      ]
     },
     "execution_count": 17,
     "metadata": {},
     "output_type": "execute_result"
    }
   ],
   "source": [
    "#ADD QUERY CODE HERE\n",
    "medication_data.insert_many(medication_record)"
   ]
  },
  {
   "cell_type": "code",
   "execution_count": 18,
   "metadata": {},
   "outputs": [
    {
     "name": "stdout",
     "output_type": "stream",
     "text": [
      "{'Drug name': 'Omeprazole',\n",
      " 'IV dose': '40mg',\n",
      " 'Net price (GBP)': 4.29,\n",
      " 'Oral dose': '20mg once daily',\n",
      " 'Type': 'Proton pump inhibitor',\n",
      " '_id': ObjectId('6274481fd0e69181b355e14c')}\n",
      "{'Drug name': 'Amitriptyline',\n",
      " 'IV dose': 'N/A',\n",
      " 'Net price (GBP)': 1.32,\n",
      " 'Oral dose': '30–75mg daily',\n",
      " 'Type': 'Tricyclic antidepressant',\n",
      " '_id': ObjectId('6274481fd0e69181b355e14d')}\n"
     ]
    }
   ],
   "source": [
    "for item in medication_data.find():\n",
    "    pprint(item)"
   ]
  },
  {
   "cell_type": "markdown",
   "metadata": {},
   "source": [
    "## Now link that medication to patients\n",
    "hint:complete the parts with a question mark..."
   ]
  },
  {
   "cell_type": "code",
   "execution_count": 19,
   "metadata": {},
   "outputs": [],
   "source": [
    "from bson.dbref import DBRef\n",
    "patient_records = [\n",
    " {\n",
    "   \"Hospital number\": \"9956734\",\n",
    "   \"Name\": \"Adam Blythe\",\n",
    "   \"Age\": 55,\n",
    "   \"Sex\": \"M\",\n",
    "   \"Prescribed medications\": [\n",
    "     DBRef(\"medication_data\", \"?\"),\n",
    "     DBRef(\"medication_data\", \"?\")\n",
    "   ]\n",
    " },\n",
    " {\n",
    "   \"Hospital number\": \"4543673\",\n",
    "   \"Name\": \"Darren Sanders\",\n",
    "   \"Age\": 34,\n",
    "   \"Sex\": \"M\",\n",
    "   \"Prescribed medications\": [\n",
    "     DBRef(\"diagnosis_data\", \"?\")\n",
    "   ]\n",
    " }\n",
    "]"
   ]
  },
  {
   "cell_type": "code",
   "execution_count": 20,
   "metadata": {},
   "outputs": [
    {
     "data": {
      "text/plain": [
       "<pymongo.results.InsertManyResult at 0x1eb96e2ad40>"
      ]
     },
     "execution_count": 20,
     "metadata": {},
     "output_type": "execute_result"
    }
   ],
   "source": [
    "patient_data.insert_many(patient_records)"
   ]
  },
  {
   "cell_type": "code",
   "execution_count": 21,
   "metadata": {},
   "outputs": [
    {
     "name": "stdout",
     "output_type": "stream",
     "text": [
      "{'Age': 87,\n",
      " 'Blood pressure': [{'sys': 156}, {'dia': 82}],\n",
      " 'Heart rate': 82,\n",
      " 'Name': 'Maureen Skinner',\n",
      " 'Sex': 'F',\n",
      " '_id': ObjectId('6274481ed0e69181b355e147')}\n",
      "{'Age': 55,\n",
      " 'Blood pressure': [{'sys': 132}, {'dia': 73}],\n",
      " 'Heart rate': 73,\n",
      " 'Name': 'Adam Blythe',\n",
      " 'Sex': 'M',\n",
      " '_id': ObjectId('6274481ed0e69181b355e148')}\n",
      "{'Age': 34,\n",
      " 'Blood pressure': [{'sys': 120}, {'dia': 70}],\n",
      " 'Heart rate': 88,\n",
      " 'Name': 'Darren Sanders',\n",
      " 'Sex': 'M',\n",
      " '_id': ObjectId('6274481ed0e69181b355e149')}\n",
      "{'Age': 19,\n",
      " 'Blood pressure': [{'sys': 121}, {'dia': 72}],\n",
      " 'Heart rate': 67,\n",
      " 'Name': 'Sally-Ann Joyce',\n",
      " 'Sex': 'F',\n",
      " '_id': ObjectId('6274481ed0e69181b355e14a')}\n",
      "{'Age': 45,\n",
      " 'Blood pressure': [{'sys': 126}, {'dia': 72}],\n",
      " 'Heart rate': 78,\n",
      " 'Hospital number': '3432543',\n",
      " 'Name': 'Karen Baker',\n",
      " 'Sex': 'F',\n",
      " 'Test results': [{'ECG': '\\\\scans\\\\ECGs\\\\ecg00023.png'},\n",
      "                  {'BIOCHEM': [{'AST': 37}, {'CK': 180}, {'TROPT': 0.03}]}],\n",
      " '_id': ObjectId('6274481fd0e69181b355e14b')}\n",
      "{'Age': 55,\n",
      " 'Hospital number': '9956734',\n",
      " 'Name': 'Adam Blythe',\n",
      " 'Prescribed medications': [DBRef('medication_data', '?'),\n",
      "                            DBRef('medication_data', '?')],\n",
      " 'Sex': 'M',\n",
      " '_id': ObjectId('6274481fd0e69181b355e14e')}\n",
      "{'Age': 34,\n",
      " 'Hospital number': '4543673',\n",
      " 'Name': 'Darren Sanders',\n",
      " 'Prescribed medications': [DBRef('diagnosis_data', '?')],\n",
      " 'Sex': 'M',\n",
      " '_id': ObjectId('6274481fd0e69181b355e14f')}\n"
     ]
    }
   ],
   "source": [
    "for item in patient_data.find():\n",
    "    pprint(item)"
   ]
  },
  {
   "cell_type": "markdown",
   "metadata": {},
   "source": [
    "# Querying data with conditions"
   ]
  },
  {
   "cell_type": "raw",
   "metadata": {},
   "source": [
    "collection.find({ <fields> }, { <query> })"
   ]
  },
  {
   "cell_type": "markdown",
   "metadata": {},
   "source": [
    "## Find patient with the name “Darren Sanders”\n",
    "hint: use find with the condition {\"Name\": \"Darren Sanders\"}"
   ]
  },
  {
   "cell_type": "code",
   "execution_count": 22,
   "metadata": {},
   "outputs": [
    {
     "name": "stdout",
     "output_type": "stream",
     "text": [
      "{'Age': 34,\n",
      " 'Blood pressure': [{'sys': 120}, {'dia': 70}],\n",
      " 'Heart rate': 88,\n",
      " 'Name': 'Darren Sanders',\n",
      " 'Sex': 'M',\n",
      " '_id': ObjectId('6274481ed0e69181b355e149')}\n"
     ]
    }
   ],
   "source": [
    "# pprint(ADD QUERY CODE HERE)[0])\n",
    "pprint(patient_data.find({\"Name\":\"Darren Sanders\"})[0])"
   ]
  },
  {
   "cell_type": "markdown",
   "metadata": {},
   "source": [
    "## But there are two Darrens, show both: "
   ]
  },
  {
   "cell_type": "code",
   "execution_count": 23,
   "metadata": {},
   "outputs": [
    {
     "name": "stdout",
     "output_type": "stream",
     "text": [
      "{'Age': 34,\n",
      " 'Blood pressure': [{'sys': 120}, {'dia': 70}],\n",
      " 'Heart rate': 88,\n",
      " 'Name': 'Darren Sanders',\n",
      " 'Sex': 'M',\n",
      " '_id': ObjectId('6274481ed0e69181b355e149')}\n",
      "{'Age': 34,\n",
      " 'Hospital number': '4543673',\n",
      " 'Name': 'Darren Sanders',\n",
      " 'Prescribed medications': [DBRef('diagnosis_data', '?')],\n",
      " 'Sex': 'M',\n",
      " '_id': ObjectId('6274481fd0e69181b355e14f')}\n"
     ]
    }
   ],
   "source": [
    "query = {\"Name\": \"Darren Sanders\"}\n",
    "doc = patient_data.find(query)\n",
    "for i in doc:\n",
    "  pprint(i)"
   ]
  },
  {
   "cell_type": "markdown",
   "metadata": {},
   "source": [
    "## Show the names of patients with heart rates higher than 70 \n",
    "hint: condition: {\"Heart rate\": {\"$gt\": 70}}, {\"Name\"}"
   ]
  },
  {
   "cell_type": "code",
   "execution_count": 24,
   "metadata": {},
   "outputs": [
    {
     "name": "stdout",
     "output_type": "stream",
     "text": [
      "{'Name': 'Maureen Skinner', '_id': ObjectId('6274481ed0e69181b355e147')}\n",
      "{'Name': 'Adam Blythe', '_id': ObjectId('6274481ed0e69181b355e148')}\n",
      "{'Name': 'Darren Sanders', '_id': ObjectId('6274481ed0e69181b355e149')}\n",
      "{'Name': 'Karen Baker', '_id': ObjectId('6274481fd0e69181b355e14b')}\n"
     ]
    }
   ],
   "source": [
    "for heart_rate in patient_data.find({\"Heart rate\":{\"$gt\":70}},{\"Name\"}):\n",
    "    pprint(heart_rate)"
   ]
  },
  {
   "cell_type": "markdown",
   "metadata": {},
   "source": [
    "## find patients with heart rate <= 70 and aged more than 18\n",
    "\n",
    "hint: complete the text to work..."
   ]
  },
  {
   "cell_type": "code",
   "execution_count": 25,
   "metadata": {},
   "outputs": [
    {
     "name": "stdout",
     "output_type": "stream",
     "text": [
      "{'Age': 19,\n",
      " 'Blood pressure': [{'sys': 121}, {'dia': 72}],\n",
      " 'Heart rate': 67,\n",
      " 'Name': 'Sally-Ann Joyce',\n",
      " 'Sex': 'F',\n",
      " '_id': ObjectId('6274481ed0e69181b355e14a')}\n"
     ]
    }
   ],
   "source": [
    "result = patient_data.find({\n",
    "    \"$and\" : [\n",
    "    {\n",
    "        \"Heart rate\": {\"$lte\": 70}\n",
    "    },\n",
    "    {\n",
    "        \"Age\": {\"$gt\": 18}\n",
    "    }\n",
    "    ]})\n",
    "for pt in result:\n",
    "    pprint(pt)"
   ]
  },
  {
   "cell_type": "markdown",
   "metadata": {},
   "source": [
    "## find the patients with a systolic (sys) blood pressure less than 140 mmHG (mm of mercury)\n",
    "hints: \n",
    "{\"Blood pressure.sys\": {\"$?\": ?}}\n",
    "\n",
    "use . to access the array elements"
   ]
  },
  {
   "cell_type": "code",
   "execution_count": 33,
   "metadata": {},
   "outputs": [
    {
     "name": "stdout",
     "output_type": "stream",
     "text": [
      "{'Age': 55,\n",
      " 'Blood pressure': [{'sys': 132}, {'dia': 73}],\n",
      " 'Heart rate': 73,\n",
      " 'Name': 'Adam Blythe',\n",
      " 'Sex': 'M',\n",
      " '_id': ObjectId('6274481ed0e69181b355e148')}\n",
      "{'Age': 34,\n",
      " 'Blood pressure': [{'sys': 120}, {'dia': 70}],\n",
      " 'Heart rate': 88,\n",
      " 'Name': 'Darren Sanders',\n",
      " 'Sex': 'M',\n",
      " '_id': ObjectId('6274481ed0e69181b355e149')}\n",
      "{'Age': 19,\n",
      " 'Blood pressure': [{'sys': 121}, {'dia': 72}],\n",
      " 'Heart rate': 67,\n",
      " 'Name': 'Sally-Ann Joyce',\n",
      " 'Sex': 'F',\n",
      " '_id': ObjectId('6274481ed0e69181b355e14a')}\n",
      "{'Age': 45,\n",
      " 'Blood pressure': [{'sys': 126}, {'dia': 72}],\n",
      " 'Heart rate': 78,\n",
      " 'Hospital number': '3432543',\n",
      " 'Name': 'Karen Baker',\n",
      " 'Sex': 'F',\n",
      " 'Test results': [{'ECG': '\\\\scans\\\\ECGs\\\\ecg00023.png'},\n",
      "                  {'BIOCHEM': [{'AST': 37}, {'CK': 180}, {'TROPT': 0.03}]}],\n",
      " '_id': ObjectId('6274481fd0e69181b355e14b')}\n"
     ]
    }
   ],
   "source": [
    "for normal in patient_data.find({'Blood pressure.sys': {'$lt': 140}}):\n",
    "    pprint(normal)"
   ]
  },
  {
   "cell_type": "markdown",
   "metadata": {},
   "source": [
    "# import restaurants and neighbourhoods JSON"
   ]
  },
  {
   "cell_type": "raw",
   "metadata": {},
   "source": [
    "wget https://raw.githubusercontent.com/mongodb/docs-assets/primer-dataset/primer-dataset.json"
   ]
  },
  {
   "cell_type": "code",
   "execution_count": 27,
   "metadata": {},
   "outputs": [
    {
     "name": "stderr",
     "output_type": "stream",
     "text": [
      "The system cannot find the path specified.\n"
     ]
    }
   ],
   "source": [
    "!/Users/pedro/servers/MongoDB/mongodb-osx-x86_64-3.6.2/bin/mongoimport -d restaurants -c restaurants --file restaurants.json"
   ]
  },
  {
   "cell_type": "code",
   "execution_count": 28,
   "metadata": {},
   "outputs": [
    {
     "ename": "JSONDecodeError",
     "evalue": "Extra data: line 2 column 1 (char 544)",
     "output_type": "error",
     "traceback": [
      "\u001b[1;31m---------------------------------------------------------------------------\u001b[0m",
      "\u001b[1;31mJSONDecodeError\u001b[0m                           Traceback (most recent call last)",
      "Input \u001b[1;32mIn [28]\u001b[0m, in \u001b[0;36m<cell line: 3>\u001b[1;34m()\u001b[0m\n\u001b[0;32m      2\u001b[0m \u001b[38;5;28;01mimport\u001b[39;00m \u001b[38;5;21;01mjson\u001b[39;00m\n\u001b[0;32m      3\u001b[0m \u001b[38;5;28;01mwith\u001b[39;00m \u001b[38;5;28mopen\u001b[39m(\u001b[38;5;124m'\u001b[39m\u001b[38;5;124mrestaurants.json\u001b[39m\u001b[38;5;124m'\u001b[39m) \u001b[38;5;28;01mas\u001b[39;00m f:\n\u001b[1;32m----> 4\u001b[0m   file_data \u001b[38;5;241m=\u001b[39m \u001b[43mjson\u001b[49m\u001b[38;5;241;43m.\u001b[39;49m\u001b[43mload\u001b[49m\u001b[43m(\u001b[49m\u001b[43mf\u001b[49m\u001b[43m)\u001b[49m\n\u001b[0;32m      6\u001b[0m my_collection\u001b[38;5;241m.\u001b[39minsert_many(file_data)\n",
      "File \u001b[1;32mC:\\Program Files\\WindowsApps\\PythonSoftwareFoundation.Python.3.10_3.10.1264.0_x64__qbz5n2kfra8p0\\lib\\json\\__init__.py:293\u001b[0m, in \u001b[0;36mload\u001b[1;34m(fp, cls, object_hook, parse_float, parse_int, parse_constant, object_pairs_hook, **kw)\u001b[0m\n\u001b[0;32m    274\u001b[0m \u001b[38;5;28;01mdef\u001b[39;00m \u001b[38;5;21mload\u001b[39m(fp, \u001b[38;5;241m*\u001b[39m, \u001b[38;5;28mcls\u001b[39m\u001b[38;5;241m=\u001b[39m\u001b[38;5;28;01mNone\u001b[39;00m, object_hook\u001b[38;5;241m=\u001b[39m\u001b[38;5;28;01mNone\u001b[39;00m, parse_float\u001b[38;5;241m=\u001b[39m\u001b[38;5;28;01mNone\u001b[39;00m,\n\u001b[0;32m    275\u001b[0m         parse_int\u001b[38;5;241m=\u001b[39m\u001b[38;5;28;01mNone\u001b[39;00m, parse_constant\u001b[38;5;241m=\u001b[39m\u001b[38;5;28;01mNone\u001b[39;00m, object_pairs_hook\u001b[38;5;241m=\u001b[39m\u001b[38;5;28;01mNone\u001b[39;00m, \u001b[38;5;241m*\u001b[39m\u001b[38;5;241m*\u001b[39mkw):\n\u001b[0;32m    276\u001b[0m     \u001b[38;5;124;03m\"\"\"Deserialize ``fp`` (a ``.read()``-supporting file-like object containing\u001b[39;00m\n\u001b[0;32m    277\u001b[0m \u001b[38;5;124;03m    a JSON document) to a Python object.\u001b[39;00m\n\u001b[0;32m    278\u001b[0m \n\u001b[1;32m   (...)\u001b[0m\n\u001b[0;32m    291\u001b[0m \u001b[38;5;124;03m    kwarg; otherwise ``JSONDecoder`` is used.\u001b[39;00m\n\u001b[0;32m    292\u001b[0m \u001b[38;5;124;03m    \"\"\"\u001b[39;00m\n\u001b[1;32m--> 293\u001b[0m     \u001b[38;5;28;01mreturn\u001b[39;00m loads(fp\u001b[38;5;241m.\u001b[39mread(),\n\u001b[0;32m    294\u001b[0m         \u001b[38;5;28mcls\u001b[39m\u001b[38;5;241m=\u001b[39m\u001b[38;5;28mcls\u001b[39m, object_hook\u001b[38;5;241m=\u001b[39mobject_hook,\n\u001b[0;32m    295\u001b[0m         parse_float\u001b[38;5;241m=\u001b[39mparse_float, parse_int\u001b[38;5;241m=\u001b[39mparse_int,\n\u001b[0;32m    296\u001b[0m         parse_constant\u001b[38;5;241m=\u001b[39mparse_constant, object_pairs_hook\u001b[38;5;241m=\u001b[39mobject_pairs_hook, \u001b[38;5;241m*\u001b[39m\u001b[38;5;241m*\u001b[39mkw)\n",
      "File \u001b[1;32mC:\\Program Files\\WindowsApps\\PythonSoftwareFoundation.Python.3.10_3.10.1264.0_x64__qbz5n2kfra8p0\\lib\\json\\__init__.py:346\u001b[0m, in \u001b[0;36mloads\u001b[1;34m(s, cls, object_hook, parse_float, parse_int, parse_constant, object_pairs_hook, **kw)\u001b[0m\n\u001b[0;32m    341\u001b[0m     s \u001b[38;5;241m=\u001b[39m s\u001b[38;5;241m.\u001b[39mdecode(detect_encoding(s), \u001b[38;5;124m'\u001b[39m\u001b[38;5;124msurrogatepass\u001b[39m\u001b[38;5;124m'\u001b[39m)\n\u001b[0;32m    343\u001b[0m \u001b[38;5;28;01mif\u001b[39;00m (\u001b[38;5;28mcls\u001b[39m \u001b[38;5;129;01mis\u001b[39;00m \u001b[38;5;28;01mNone\u001b[39;00m \u001b[38;5;129;01mand\u001b[39;00m object_hook \u001b[38;5;129;01mis\u001b[39;00m \u001b[38;5;28;01mNone\u001b[39;00m \u001b[38;5;129;01mand\u001b[39;00m\n\u001b[0;32m    344\u001b[0m         parse_int \u001b[38;5;129;01mis\u001b[39;00m \u001b[38;5;28;01mNone\u001b[39;00m \u001b[38;5;129;01mand\u001b[39;00m parse_float \u001b[38;5;129;01mis\u001b[39;00m \u001b[38;5;28;01mNone\u001b[39;00m \u001b[38;5;129;01mand\u001b[39;00m\n\u001b[0;32m    345\u001b[0m         parse_constant \u001b[38;5;129;01mis\u001b[39;00m \u001b[38;5;28;01mNone\u001b[39;00m \u001b[38;5;129;01mand\u001b[39;00m object_pairs_hook \u001b[38;5;129;01mis\u001b[39;00m \u001b[38;5;28;01mNone\u001b[39;00m \u001b[38;5;129;01mand\u001b[39;00m \u001b[38;5;129;01mnot\u001b[39;00m kw):\n\u001b[1;32m--> 346\u001b[0m     \u001b[38;5;28;01mreturn\u001b[39;00m \u001b[43m_default_decoder\u001b[49m\u001b[38;5;241;43m.\u001b[39;49m\u001b[43mdecode\u001b[49m\u001b[43m(\u001b[49m\u001b[43ms\u001b[49m\u001b[43m)\u001b[49m\n\u001b[0;32m    347\u001b[0m \u001b[38;5;28;01mif\u001b[39;00m \u001b[38;5;28mcls\u001b[39m \u001b[38;5;129;01mis\u001b[39;00m \u001b[38;5;28;01mNone\u001b[39;00m:\n\u001b[0;32m    348\u001b[0m     \u001b[38;5;28mcls\u001b[39m \u001b[38;5;241m=\u001b[39m JSONDecoder\n",
      "File \u001b[1;32mC:\\Program Files\\WindowsApps\\PythonSoftwareFoundation.Python.3.10_3.10.1264.0_x64__qbz5n2kfra8p0\\lib\\json\\decoder.py:340\u001b[0m, in \u001b[0;36mJSONDecoder.decode\u001b[1;34m(self, s, _w)\u001b[0m\n\u001b[0;32m    338\u001b[0m end \u001b[38;5;241m=\u001b[39m _w(s, end)\u001b[38;5;241m.\u001b[39mend()\n\u001b[0;32m    339\u001b[0m \u001b[38;5;28;01mif\u001b[39;00m end \u001b[38;5;241m!=\u001b[39m \u001b[38;5;28mlen\u001b[39m(s):\n\u001b[1;32m--> 340\u001b[0m     \u001b[38;5;28;01mraise\u001b[39;00m JSONDecodeError(\u001b[38;5;124m\"\u001b[39m\u001b[38;5;124mExtra data\u001b[39m\u001b[38;5;124m\"\u001b[39m, s, end)\n\u001b[0;32m    341\u001b[0m \u001b[38;5;28;01mreturn\u001b[39;00m obj\n",
      "\u001b[1;31mJSONDecodeError\u001b[0m: Extra data: line 2 column 1 (char 544)"
     ]
    }
   ],
   "source": [
    "#NOTA: DE MODO GERAL, A IMPORTACAO TB deve FUNCIONAR COM:\n",
    "import json\n",
    "with open('restaurants.json') as f:\n",
    "  file_data = json.load(f)\n",
    " \n",
    "my_collection.insert_many(file_data)"
   ]
  },
  {
   "cell_type": "markdown",
   "metadata": {},
   "source": [
    "## See databases"
   ]
  },
  {
   "cell_type": "code",
   "execution_count": null,
   "metadata": {},
   "outputs": [],
   "source": [
    "client.list_database_names()"
   ]
  },
  {
   "cell_type": "markdown",
   "metadata": {},
   "source": [
    "## Connect to restaurants, reference restaurants"
   ]
  },
  {
   "cell_type": "code",
   "execution_count": null,
   "metadata": {},
   "outputs": [],
   "source": [
    "db = client['restaurants']"
   ]
  },
  {
   "cell_type": "code",
   "execution_count": null,
   "metadata": {},
   "outputs": [],
   "source": [
    "client['restaurants'].list_collection_names()"
   ]
  },
  {
   "cell_type": "code",
   "execution_count": null,
   "metadata": {},
   "outputs": [],
   "source": [
    "restaurants=client['restaurants']['restaurants']"
   ]
  },
  {
   "cell_type": "code",
   "execution_count": null,
   "metadata": {},
   "outputs": [],
   "source": [
    "for item in restaurants.find().limit(5):\n",
    "    print(item)"
   ]
  },
  {
   "cell_type": "markdown",
   "metadata": {},
   "source": [
    "## Compute the average scores of the restaurants. "
   ]
  },
  {
   "cell_type": "raw",
   "metadata": {},
   "source": [
    "We pass an array to the aggregate function. \n",
    "\n",
    "The $unwind parameter is used to deconstruct the grades array in order to output a document for each element. \n",
    "\n",
    "Next we use the $match parameter including everything (by using open and closing braces). We could filter further here by providing additional criteria. \n",
    "\n",
    "Next we use the $group parameter to group the data that we want to apply the computation to. \n",
    "\n",
    "Finally we create new key called “Avg grade” and apply the $avg (average) parameter to the grades scores of individual restaurants referencing grades followed by a dot and the score key.\n",
    "\n",
    "There are many other parameters that can be used for common computations such as $sum, $min, $max etc."
   ]
  },
  {
   "cell_type": "code",
   "execution_count": null,
   "metadata": {},
   "outputs": [],
   "source": [
    "result = restaurants.aggregate(\n",
    "  [\n",
    "     {\"$unwind\": \"$grades\"},\n",
    "     {\"$match\": {}}, \n",
    "     {\"$group\": {\"_id\": \"$name\", \"Avg grade\": {\"$avg\": \"$grades.score\"}}}\n",
    "  ]\n",
    ")"
   ]
  },
  {
   "cell_type": "code",
   "execution_count": null,
   "metadata": {},
   "outputs": [],
   "source": [
    "for item in result:\n",
    "    print(item)"
   ]
  },
  {
   "cell_type": "raw",
   "metadata": {},
   "source": [
    "sort the returned in ascending or descending order. We could simply add another line with the sort parameter specifying which field to sort by. 1 (ascending) or -1 (descending).\n",
    "\n",
    "hint: add {\"$sort\": {\"Avg grade\": -1}}"
   ]
  },
  {
   "cell_type": "code",
   "execution_count": null,
   "metadata": {},
   "outputs": [],
   "source": [
    "## your code here\n"
   ]
  },
  {
   "cell_type": "code",
   "execution_count": null,
   "metadata": {},
   "outputs": [],
   "source": [
    "for item in result:\n",
    "    print(item)"
   ]
  },
  {
   "cell_type": "markdown",
   "metadata": {},
   "source": [
    "# Now create a patient class in python that is a document"
   ]
  },
  {
   "cell_type": "code",
   "execution_count": null,
   "metadata": {},
   "outputs": [],
   "source": [
    "pip install mongoengine"
   ]
  },
  {
   "cell_type": "code",
   "execution_count": null,
   "metadata": {},
   "outputs": [],
   "source": [
    "from mongoengine import *\n",
    "connect('odm_patients')"
   ]
  },
  {
   "cell_type": "code",
   "execution_count": null,
   "metadata": {},
   "outputs": [],
   "source": [
    "class Patient(Document):\n",
    "    patient_id = StringField(required=True)\n",
    "    name = StringField()\n",
    "    age = IntField()\n",
    "    sex = StringField(max_length=1)\n",
    "    heart_rate = IntField()"
   ]
  },
  {
   "cell_type": "markdown",
   "metadata": {},
   "source": [
    "## Add patients "
   ]
  },
  {
   "cell_type": "raw",
   "metadata": {},
   "source": [
    "# create instances of this class in the standard way in Python. Here we can create a couple of patients called Maxine and Hamza. Note that we add the save() function to the end of the line to write this data to the database."
   ]
  },
  {
   "cell_type": "code",
   "execution_count": null,
   "metadata": {},
   "outputs": [],
   "source": [
    "maxine_patient = Patient(patient_id = \"342453\", name = \"Maxine Smith\", age = 47, sex = \"F\", heart_rate = 67).save()\n",
    "\n",
    "hamza_patient = Patient(patient_id = \"543243\", name = \"Hamza Khan\", age = 22, sex = \"M\", heart_rate = 73).save()"
   ]
  },
  {
   "cell_type": "markdown",
   "metadata": {},
   "source": [
    "## View using python "
   ]
  },
  {
   "cell_type": "code",
   "execution_count": null,
   "metadata": {},
   "outputs": [],
   "source": [
    "for patient in Patient.objects:\n",
    "    print(patient.name, patient.patient_id, patient.age)"
   ]
  },
  {
   "cell_type": "markdown",
   "metadata": {},
   "source": [
    "## Now discover (find query) the patients in mongodb server directly "
   ]
  },
  {
   "cell_type": "code",
   "execution_count": null,
   "metadata": {},
   "outputs": [],
   "source": [
    "client.list_database_names()"
   ]
  },
  {
   "cell_type": "code",
   "execution_count": null,
   "metadata": {},
   "outputs": [],
   "source": [
    "## your code here"
   ]
  },
  {
   "cell_type": "code",
   "execution_count": null,
   "metadata": {},
   "outputs": [],
   "source": [
    "for item in client['odm_patients'].patient.find():\n",
    "    print(item)"
   ]
  },
  {
   "cell_type": "markdown",
   "metadata": {},
   "source": [
    "# Convert data from a Mongo database into tabular form as a Panda’s dataframe object"
   ]
  },
  {
   "cell_type": "code",
   "execution_count": null,
   "metadata": {},
   "outputs": [],
   "source": [
    "import pandas as pd\n",
    "\n",
    "extracted_data = restaurants.find({},{\"borough\": \"Bronx\", \"cuisine\": \"Bakery\", \"name\": 1})\n",
    "bronx_bakeries = list(extracted_data)\n",
    "\n",
    "bakeries=pd.DataFrame.from_dict(bronx_bakeries);"
   ]
  },
  {
   "cell_type": "code",
   "execution_count": null,
   "metadata": {},
   "outputs": [],
   "source": [
    "bakeries"
   ]
  },
  {
   "cell_type": "markdown",
   "metadata": {},
   "source": [
    "# The end !!!!"
   ]
  },
  {
   "cell_type": "code",
   "execution_count": null,
   "metadata": {},
   "outputs": [],
   "source": []
  }
 ],
 "metadata": {
  "kernelspec": {
   "display_name": "Python 3 (ipykernel)",
   "language": "python",
   "name": "python3"
  },
  "language_info": {
   "codemirror_mode": {
    "name": "ipython",
    "version": 3
   },
   "file_extension": ".py",
   "mimetype": "text/x-python",
   "name": "python",
   "nbconvert_exporter": "python",
   "pygments_lexer": "ipython3",
   "version": "3.10.4"
  },
  "toc": {
   "base_numbering": 1,
   "nav_menu": {},
   "number_sections": true,
   "sideBar": true,
   "skip_h1_title": false,
   "title_cell": "Table of Contents",
   "title_sidebar": "Contents",
   "toc_cell": false,
   "toc_position": {},
   "toc_section_display": true,
   "toc_window_display": false
  },
  "varInspector": {
   "cols": {
    "lenName": 16,
    "lenType": 16,
    "lenVar": 40
   },
   "kernels_config": {
    "python": {
     "delete_cmd_postfix": "",
     "delete_cmd_prefix": "del ",
     "library": "var_list.py",
     "varRefreshCmd": "print(var_dic_list())"
    },
    "r": {
     "delete_cmd_postfix": ") ",
     "delete_cmd_prefix": "rm(",
     "library": "var_list.r",
     "varRefreshCmd": "cat(var_dic_list()) "
    }
   },
   "types_to_exclude": [
    "module",
    "function",
    "builtin_function_or_method",
    "instance",
    "_Feature"
   ],
   "window_display": false
  }
 },
 "nbformat": 4,
 "nbformat_minor": 4
}
