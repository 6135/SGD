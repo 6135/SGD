{
 "cells": [
  {
   "cell_type": "code",
   "execution_count": null,
   "metadata": {},
   "outputs": [],
   "source": [
    "import pandas as pd\n",
    "import numpy as np\n",
    "import matplotlib.pyplot as plt\n",
    "#import matplotlib as plt\n",
    "import seaborn as sns\n",
    "\n",
    "df = pd.read_csv(\"train.csv\")\n",
    "df"
   ]
  },
  {
   "cell_type": "markdown",
   "metadata": {},
   "source": [
    "# How do you correlate passenger class with survival chances?"
   ]
  },
  {
   "cell_type": "code",
   "execution_count": null,
   "metadata": {},
   "outputs": [],
   "source": [
    "pd.crosstab(df.Survived, df.Pclass, margins=True)\n"
   ]
  },
  {
   "cell_type": "code",
   "execution_count": null,
   "metadata": {
    "scrolled": true
   },
   "outputs": [],
   "source": [
    "temp4 = pd.crosstab(df['Pclass'], df['Survived']) \n",
    "temp4.plot(kind='bar')\n",
    "plt.show()\n"
   ]
  },
  {
   "cell_type": "markdown",
   "metadata": {},
   "source": [
    "# What is the percenbtage of survivors in each passenger class, therefore, how did the passenger class influence survivability? "
   ]
  },
  {
   "cell_type": "code",
   "execution_count": null,
   "metadata": {},
   "outputs": [],
   "source": [
    "# 62% dos class 1 sobreviveram\n",
    "# 48% dos class 2 sobreviveram\n",
    "# 25% dos class 3 sobreviveram\n",
    "temp1 = df['Pclass'].value_counts(ascending=False) \n",
    "\n",
    "temp2 = df.pivot_table(values='Survived',index=['Pclass'],aggfunc=lambda x: x.mean()) \n",
    "\n",
    "print ('Number of passengers in each class:') \n",
    "print (temp1) \n",
    "\n",
    "print ('Percentage of survivals in each class:') \n",
    "print (temp2 )\n",
    "\n",
    "\n",
    "temp2.plot(kind='bar')\n",
    "plt.show()\n"
   ]
  },
  {
   "cell_type": "markdown",
   "metadata": {},
   "source": [
    "# How did the sex influence survival "
   ]
  },
  {
   "cell_type": "code",
   "execution_count": null,
   "metadata": {},
   "outputs": [],
   "source": [
    "pd.crosstab(([df['Pclass'],df['Sex']]),df['Survived'])"
   ]
  },
  {
   "cell_type": "markdown",
   "metadata": {},
   "source": [
    "# Some simple transformation..."
   ]
  },
  {
   "cell_type": "code",
   "execution_count": null,
   "metadata": {},
   "outputs": [],
   "source": [
    "tempx = pd.crosstab(([df['Pclass'],df['Sex']]),df['Survived'].where(df['Survived']==1)) \n",
    "\n",
    "tempx.plot(kind='bar', color=['gold','blue'], grid=False)\n",
    "plt.show()"
   ]
  },
  {
   "cell_type": "code",
   "execution_count": null,
   "metadata": {},
   "outputs": [],
   "source": [
    "def status(feature): \n",
    "\tprint ('Processing',feature,': ok' )\n",
    "\n",
    "def process_family(): \n",
    "\t# introducing a new feature : the size of families (including the passenger) \n",
    "\tdf['FamilySize'] = df['Parch'] + df['SibSp'] + 1 \n",
    "\n",
    "\t# introducing other features based on the family size \n",
    "\tdf['family'] = df['SibSp'].map(lambda s : 1 if s > 1 else 0) \n",
    "\t\n",
    "\tstatus('family')\n"
   ]
  },
  {
   "cell_type": "code",
   "execution_count": null,
   "metadata": {},
   "outputs": [],
   "source": [
    "process_family()"
   ]
  },
  {
   "cell_type": "code",
   "execution_count": null,
   "metadata": {},
   "outputs": [],
   "source": [
    "df"
   ]
  },
  {
   "cell_type": "markdown",
   "metadata": {},
   "source": [
    "# What are the age groups with more and less survivability? "
   ]
  },
  {
   "cell_type": "code",
   "execution_count": null,
   "metadata": {},
   "outputs": [],
   "source": [
    "group_by_age = pd.cut(df[\"Age\"], [0,18,25,40,60,100]) \n",
    "\n",
    "age_grouping = df.groupby(group_by_age)['Survived'].count() \n",
    "\n",
    "(age_grouping/age_grouping.sum()).plot(kind='pie',autopct='%.1f')\n",
    "\n",
    "plt.show()"
   ]
  },
  {
   "cell_type": "code",
   "execution_count": null,
   "metadata": {},
   "outputs": [],
   "source": [
    "group_by_age = pd.cut(df[\"Age\"], [0,18,25,40,60,100]) \n",
    "\n",
    "age_grouping = df.groupby(group_by_age)['Survived'].sum() \n",
    "\n",
    "(age_grouping/age_grouping.sum()).plot(kind='pie',autopct='%.1f')\n",
    "\n",
    "plt.show()"
   ]
  },
  {
   "cell_type": "code",
   "execution_count": null,
   "metadata": {},
   "outputs": [],
   "source": []
  },
  {
   "cell_type": "code",
   "execution_count": null,
   "metadata": {},
   "outputs": [],
   "source": [
    "da = df.drop('Ticket', 1)\n",
    "\n",
    "da = da.drop('Cabin', 1)\n",
    "\n",
    "da = da.dropna()\n",
    "\n",
    "da.count()\n"
   ]
  },
  {
   "cell_type": "markdown",
   "metadata": {},
   "source": [
    "# How good is the following logistic regression model? Look at the R2 and p-values and conclude regarding both the quality of the model and the significance of each variable "
   ]
  },
  {
   "cell_type": "code",
   "execution_count": null,
   "metadata": {},
   "outputs": [],
   "source": [
    "import patsy \n",
    "\n",
    "df_train=da.iloc[0:600,:] \n",
    "df_test = da.iloc[0:112,:] \n",
    "formula = 'Survived ~ C(Pclass) + C(Sex) + Age + SibSp + C(Embarked) + Parch' \n",
    "\n",
    "y_train,x_train = patsy.dmatrices(formula, data=df_train,return_type='dataframe') \n",
    "\n",
    "y_test,x_test = patsy.dmatrices(formula, data=df_test,return_type='dataframe')\n"
   ]
  },
  {
   "cell_type": "code",
   "execution_count": null,
   "metadata": {},
   "outputs": [],
   "source": [
    "import statsmodels.api as sm\n",
    "\n",
    "model = sm.Logit(y_train,x_train) \n",
    "\n",
    "res = model.fit() \n",
    "\n",
    "res.summary()\n",
    "\n"
   ]
  },
  {
   "cell_type": "markdown",
   "metadata": {},
   "source": [
    "# A few examples of estimation versus real value... What is the estimation and what is the real value?"
   ]
  },
  {
   "cell_type": "code",
   "execution_count": null,
   "metadata": {},
   "outputs": [],
   "source": [
    "model = sm.Logit(y_test,x_test) \n",
    "\n",
    "res = model.fit() \n",
    "\n",
    "y_pred = res.predict(x_test) \n",
    "\n",
    "np.stack((y_test['Survived'],y_pred),1)\n"
   ]
  },
  {
   "cell_type": "markdown",
   "metadata": {},
   "source": [
    "# What does precision and recall for each case (survived/dd not survive) tell us?"
   ]
  },
  {
   "cell_type": "code",
   "execution_count": null,
   "metadata": {},
   "outputs": [],
   "source": [
    "y_pred_flag=y_pred>0.7 \n",
    "\n",
    "print(pd.crosstab(y_train.Survived,y_pred_flag))\n",
    "\n",
    "import sklearn.metrics as smet \n",
    "\n",
    "print( smet.classification_report(y_test,y_pred_flag)  )\n"
   ]
  },
  {
   "cell_type": "markdown",
   "metadata": {},
   "source": [
    "# Can you do better than this by choosing carefully the variables to use? What would you try? Try it once...."
   ]
  },
  {
   "cell_type": "markdown",
   "metadata": {},
   "source": [
    "# THE END"
   ]
  }
 ],
 "metadata": {
  "kernelspec": {
   "display_name": "Python 3",
   "language": "python",
   "name": "python3"
  },
  "language_info": {
   "codemirror_mode": {
    "name": "ipython",
    "version": 3
   },
   "file_extension": ".py",
   "mimetype": "text/x-python",
   "name": "python",
   "nbconvert_exporter": "python",
   "pygments_lexer": "ipython3",
   "version": "3.8.5"
  },
  "toc": {
   "base_numbering": 1,
   "nav_menu": {},
   "number_sections": true,
   "sideBar": true,
   "skip_h1_title": false,
   "title_cell": "Table of Contents",
   "title_sidebar": "Contents",
   "toc_cell": false,
   "toc_position": {},
   "toc_section_display": true,
   "toc_window_display": false
  },
  "varInspector": {
   "cols": {
    "lenName": 16,
    "lenType": 16,
    "lenVar": 40
   },
   "kernels_config": {
    "python": {
     "delete_cmd_postfix": "",
     "delete_cmd_prefix": "del ",
     "library": "var_list.py",
     "varRefreshCmd": "print(var_dic_list())"
    },
    "r": {
     "delete_cmd_postfix": ") ",
     "delete_cmd_prefix": "rm(",
     "library": "var_list.r",
     "varRefreshCmd": "cat(var_dic_list()) "
    }
   },
   "types_to_exclude": [
    "module",
    "function",
    "builtin_function_or_method",
    "instance",
    "_Feature"
   ],
   "window_display": false
  }
 },
 "nbformat": 4,
 "nbformat_minor": 2
}
